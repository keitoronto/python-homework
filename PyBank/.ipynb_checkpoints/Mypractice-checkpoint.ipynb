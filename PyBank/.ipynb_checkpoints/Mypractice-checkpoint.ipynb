{
 "cells": [
  {
   "cell_type": "code",
   "execution_count": 1,
   "id": "003159bb-8221-46cb-9319-6853378b5f70",
   "metadata": {},
   "outputs": [],
   "source": [
    "original_price = 120.00\n",
    "current_price = 140.00"
   ]
  },
  {
   "cell_type": "code",
   "execution_count": 2,
   "id": "c856c649-1a7d-42f7-b071-254e61e9b349",
   "metadata": {},
   "outputs": [],
   "source": [
    "increase = current_price - original_price"
   ]
  },
  {
   "cell_type": "code",
   "execution_count": 3,
   "id": "428a7ac1-22fa-49f2-942d-3b884d8bf60f",
   "metadata": {},
   "outputs": [],
   "source": [
    "percentage_increase = increase / original_price * 100"
   ]
  },
  {
   "cell_type": "code",
   "execution_count": 5,
   "id": "eb8f4f71-7127-4793-abf1-20ed8dd454fd",
   "metadata": {},
   "outputs": [
    {
     "name": "stdout",
     "output_type": "stream",
     "text": [
      "Apple's original stock price was $120.0\n",
      "Apple's current stock price is $140.0\n"
     ]
    }
   ],
   "source": [
    "print(f\"Apple's original stock price was ${original_price}\")\n",
    "print(f\"Apple's current stock price is ${current_price}\")"
   ]
  },
  {
   "cell_type": "code",
   "execution_count": 10,
   "id": "e2a2e9fe-0fcc-429c-bf3c-95ab5e562e97",
   "metadata": {},
   "outputs": [
    {
     "name": "stdout",
     "output_type": "stream",
     "text": [
      "Percentage increase of Apple's stock is 16.67%\n"
     ]
    }
   ],
   "source": [
    "print(f\"Percentage increase of Apple's stock is {round(percentage_increase,2)}%\")"
   ]
  },
  {
   "cell_type": "code",
   "execution_count": 15,
   "id": "f8fd3b71-2e2d-4383-9db7-2e8d1d0bb3f6",
   "metadata": {},
   "outputs": [
    {
     "name": "stdout",
     "output_type": "stream",
     "text": [
      "Percentage increase of Apple's stock is 16.67%\n"
     ]
    }
   ],
   "source": [
    "print(f\"Percentage increase of Apple's stock is {percentage_increase:.2f}%\")"
   ]
  },
  {
   "cell_type": "code",
   "execution_count": 17,
   "id": "c6a5bb15-0bfe-470d-9eda-8ab406c058b7",
   "metadata": {},
   "outputs": [
    {
     "name": "stdout",
     "output_type": "stream",
     "text": [
      "Question  1 works!\n"
     ]
    }
   ],
   "source": [
    "x = 6\n",
    "y = 10\n",
    "if 2* x > 10:\n",
    "    print(\"Question  1 works!\")\n",
    "else:\n",
    "    print(\"Oooo needs some work\")"
   ]
  },
  {
   "cell_type": "code",
   "execution_count": 19,
   "id": "45b4b85b-3033-454e-846a-3bacf2f83249",
   "metadata": {},
   "outputs": [
    {
     "name": "stdout",
     "output_type": "stream",
     "text": [
      "Still missing out\n"
     ]
    }
   ],
   "source": [
    "x = 2\n",
    "y = 10\n",
    "if len(\"dog\") < x:\n",
    "    print(\"Question 2 works!\")\n",
    "else:\n",
    "    print(\"Still missing out\")"
   ]
  },
  {
   "cell_type": "code",
   "execution_count": 21,
   "id": "af231ddc-62ab-478f-8785-6fed8413e119",
   "metadata": {},
   "outputs": [
    {
     "name": "stdout",
     "output_type": "stream",
     "text": [
      "You are of drinking age!\n"
     ]
    }
   ],
   "source": [
    "age = 19\n",
    "if age > 18:\n",
    "    print(\"You are of drinking age!\")\n",
    "else:\n",
    "    print(\"Aggggh! you think you can hoodwink me, matey?! You're too young to drink\")"
   ]
  },
  {
   "cell_type": "code",
   "execution_count": 25,
   "id": "b2c5127e-c4e9-443d-bb96-f043dcc67bbd",
   "metadata": {},
   "outputs": [
    {
     "name": "stdout",
     "output_type": "stream",
     "text": [
      "GOT QUeSTION 4!\n"
     ]
    }
   ],
   "source": [
    "x = 2\n",
    "y = 10\n",
    "if  not (x ** 3 >= y) and not (y ** 2 < 26):\n",
    "    print(\"GOT QUeSTION 4!\")\n",
    "else:\n",
    "    print(\"Oh good you can count\")"
   ]
  },
  {
   "cell_type": "code",
   "execution_count": 26,
   "id": "e5561fed-b297-4e70-9773-ad8b3a414b1f",
   "metadata": {},
   "outputs": [
    {
     "name": "stdout",
     "output_type": "stream",
     "text": [
      "<class 'float'>\n"
     ]
    }
   ],
   "source": [
    "print(type(original_price))"
   ]
  },
  {
   "cell_type": "code",
   "execution_count": 28,
   "id": "aea4346e-b3a0-45e5-becb-ea6b0323761a",
   "metadata": {},
   "outputs": [
    {
     "name": "stdout",
     "output_type": "stream",
     "text": [
      "Can ride bumper cars\n"
     ]
    }
   ],
   "source": [
    "height = 66\n",
    "age = 16\n",
    "adult_permission = True\n",
    "\n",
    "if (height > 70) and (age >= 18):\n",
    "    print(\"Can ride all the roller coasters\")\n",
    "elif (height > 65) and (age >= 18):\n",
    "    print(\"Can ride moderate roller coasters\")\n",
    "elif (height > 60) and (age >= 18):\n",
    "    print(\"Can ride light roller coaster\")\n",
    "elif ((height > 50) and (age >= 18)) or ((adult_permission) and (height > 50)):\n",
    "    print(\"Can ride bumper cars\")\n",
    "else:\n",
    "    print(\"Stick to lazy river\")"
   ]
  },
  {
   "cell_type": "code",
   "execution_count": 30,
   "id": "9ba49087-9ad1-46ac-905b-b07abda0bfea",
   "metadata": {},
   "outputs": [
    {
     "name": "stdout",
     "output_type": "stream",
     "text": [
      "*\n",
      "\\\n",
      "O\n",
      "/\n",
      "*\n"
     ]
    }
   ],
   "source": [
    "cheer_symbol = \"*\\O/*\"\n",
    "cheer_sumbol_2= \"ヘ( ^o^)ノ＼(^_^ )\"\n",
    "\n",
    "for x in cheer_symbol:\n",
    "    print(x)\n"
   ]
  },
  {
   "cell_type": "code",
   "execution_count": 31,
   "id": "6207e8cc-4946-49ee-a73f-b516f38f3589",
   "metadata": {},
   "outputs": [
    {
     "name": "stdout",
     "output_type": "stream",
     "text": [
      "ヘ\n",
      "(\n",
      " \n",
      "^\n",
      "o\n",
      "^\n",
      ")\n",
      "ノ\n",
      "＼\n",
      "(\n",
      "^\n",
      "_\n",
      "^\n",
      " \n",
      ")\n"
     ]
    }
   ],
   "source": [
    "for letters in cheer_sumbol_2:\n",
    "    print(letters)"
   ]
  },
  {
   "cell_type": "code",
   "execution_count": 32,
   "id": "71d2bab8-17fb-4469-8ad2-45e407459414",
   "metadata": {},
   "outputs": [
    {
     "name": "stdout",
     "output_type": "stream",
     "text": [
      "\n",
      "What does that spell?!\n"
     ]
    }
   ],
   "source": [
    "print(\"\\nWhat does that spell?!\")"
   ]
  },
  {
   "cell_type": "code",
   "execution_count": 36,
   "id": "6de48278-f5da-4e77-983b-73c83768f1bb",
   "metadata": {},
   "outputs": [
    {
     "name": "stdout",
     "output_type": "stream",
     "text": [
      "Python!nWoohoo! Go Python!\n"
     ]
    }
   ],
   "source": [
    "cheer = \"Python\"\n",
    "print(cheer + \"!nWoohoo! Go \" + cheer + \"!\")"
   ]
  },
  {
   "cell_type": "code",
   "execution_count": 34,
   "id": "7f0595e2-a78a-4ba1-ba3a-b58d6ed4f3e7",
   "metadata": {},
   "outputs": [
    {
     "name": "stdout",
     "output_type": "stream",
     "text": [
      "*\\O/**\\O/**\\O/*\n"
     ]
    }
   ],
   "source": [
    "print(cheer_symbol * 3)"
   ]
  },
  {
   "cell_type": "code",
   "execution_count": 35,
   "id": "cab83e1e-19af-4d8e-a8ae-658c6a426fb0",
   "metadata": {},
   "outputs": [
    {
     "name": "stdout",
     "output_type": "stream",
     "text": [
      "ヘ( ^o^)ノ＼(^_^ )\n"
     ]
    }
   ],
   "source": [
    "print(cheer_sumbol_2)"
   ]
  },
  {
   "cell_type": "code",
   "execution_count": 37,
   "id": "fdccf18f-ee86-4120-b8f2-0ce294af41c5",
   "metadata": {},
   "outputs": [
    {
     "name": "stdout",
     "output_type": "stream",
     "text": [
      "Give me a P!\n",
      "P!\n",
      "Give me a y!\n",
      "y!\n",
      "Give me a t!\n",
      "t!\n",
      "Give me a h!\n",
      "h!\n",
      "Give me a o!\n",
      "o!\n",
      "Give me a n!\n",
      "n!\n"
     ]
    }
   ],
   "source": [
    "for x in cheer:\n",
    "    print(\"Give me a \" + x + \"!\")\n",
    "    print(x + \"!\")"
   ]
  },
  {
   "cell_type": "code",
   "execution_count": 1,
   "id": "f5489b10-4074-464c-b186-37c613599b47",
   "metadata": {},
   "outputs": [],
   "source": [
    "#01-Ins_Lists/solved/lists.py\n",
    "#len(cheer) = 3\n",
    "cheer = [\"Python\",\"FinTech\",\"Money\"]"
   ]
  },
  {
   "cell_type": "code",
   "execution_count": 2,
   "id": "02ae547c-b053-477d-b069-f21ffcca5216",
   "metadata": {},
   "outputs": [],
   "source": [
    "cheer_symbol = \"*\\O/*\"\n",
    "cheer_symbol_2 = \"ヘ( ^o^)ノ＼(^_^ )\""
   ]
  },
  {
   "cell_type": "code",
   "execution_count": 45,
   "id": "b964ad13-f00a-4e68-9d78-7cc2c4c131a0",
   "metadata": {},
   "outputs": [
    {
     "name": "stdout",
     "output_type": "stream",
     "text": [
      "0\n",
      "Python\n",
      "Python\n",
      "Python\n",
      "Python\n",
      "Python\n",
      "Python\n",
      "1\n",
      "FinTech\n",
      "FinTech\n",
      "FinTech\n",
      "FinTech\n",
      "FinTech\n",
      "FinTech\n",
      "FinTech\n",
      "2\n",
      "Money\n",
      "Money\n",
      "Money\n",
      "Money\n",
      "Money\n"
     ]
    }
   ],
   "source": [
    "\"\"\"PRACTICE!!!\"\"\"\n",
    "for i in range(len(cheer)):\n",
    "    print(i)\n",
    "    for x in range(len(cheer[i])):\n",
    "        print(cheer[i])\n",
    "#        print(\"Give me a \" + x + \"!\")\n",
    "#        print(x + \"!\")\n",
    "#        print(cheer[i] + \"!\\nWoohoo! Go \" + cheer[i] + \"!\")\n",
    "#        print(cheer_symbol * 3)\n",
    "#        print(cheer_symbol_2)"
   ]
  },
  {
   "cell_type": "code",
   "execution_count": 29,
   "id": "aadbfb06-abfd-4f96-b602-b904222d60d3",
   "metadata": {},
   "outputs": [
    {
     "name": "stdout",
     "output_type": "stream",
     "text": [
      "Creating a list of Pokemon...\n",
      "['Pikachu', 'Charizard', 'Bulbasaur', 'Gyarados', 'Dragonite', 'Onyx']\n"
     ]
    }
   ],
   "source": [
    "print(\"Creating a list of Pokemon...\")\n",
    "pokemon =[\"Pikachu\",\"Charizard\",\"Bulbasaur\",\"Gyarados\",\"Dragonite\",\"Onyx\"]\n",
    "print(pokemon)"
   ]
  },
  {
   "cell_type": "code",
   "execution_count": 30,
   "id": "64a243ce-57b2-43b3-bfb1-d89a10a3d4c5",
   "metadata": {},
   "outputs": [
    {
     "name": "stdout",
     "output_type": "stream",
     "text": [
      "Printing the third Pokemon...\n",
      "Bulbasaur\n"
     ]
    }
   ],
   "source": [
    "print(\"Printing the third Pokemon...\")\n",
    "print(pokemon[2])"
   ]
  },
  {
   "cell_type": "code",
   "execution_count": 37,
   "id": "c814ab39-ce2a-431c-9872-ba3e244bb30e",
   "metadata": {},
   "outputs": [
    {
     "name": "stdout",
     "output_type": "stream",
     "text": [
      "Printing 3rd Pokemon to the 5th Pokemon\n",
      "['Bulbasaur', 'Gyarados', 'Dragonite']\n",
      "Bulbasaur\n",
      "Gyarados\n",
      "Dragonite\n"
     ]
    }
   ],
   "source": [
    "print(\"Printing 3rd Pokemon to the 5th Pokemon\")\n",
    "print(pokemon[2:5])\n",
    "for x in range(len(pokemon[2:5])):\n",
    "    print(pokemon[x+2])"
   ]
  },
  {
   "cell_type": "code",
   "execution_count": 48,
   "id": "7970dcbf-707c-49ec-a4ef-6e917bf5c071",
   "metadata": {},
   "outputs": [
    {
     "name": "stdout",
     "output_type": "stream",
     "text": [
      "Printing every Pokemon after the first three...\n"
     ]
    },
    {
     "data": {
      "text/plain": [
       "['Gyarados', 'Dragonite', 'Onyx']"
      ]
     },
     "execution_count": 48,
     "metadata": {},
     "output_type": "execute_result"
    }
   ],
   "source": [
    "print(\"Printing every Pokemon after the first three...\")\n",
    "pokemon[3:]\n",
    "#if it shows till the last you don't have to specify the ending"
   ]
  },
  {
   "cell_type": "code",
   "execution_count": 50,
   "id": "75c458f7-3713-445b-9768-da4f2f133466",
   "metadata": {},
   "outputs": [
    {
     "name": "stdout",
     "output_type": "stream",
     "text": [
      "Printing every Pokemon up to the first three...\n"
     ]
    },
    {
     "data": {
      "text/plain": [
       "['Pikachu', 'Charizard', 'Bulbasaur']"
      ]
     },
     "execution_count": 50,
     "metadata": {},
     "output_type": "execute_result"
    }
   ],
   "source": [
    "print(\"Printing every Pokemon up to the first three...\")\n",
    "pokemon[:3]\n",
    "#If 0 you can omit it"
   ]
  },
  {
   "cell_type": "code",
   "execution_count": 51,
   "id": "521cb73a-cce8-4069-9b2f-b66be1f67d32",
   "metadata": {},
   "outputs": [
    {
     "name": "stdout",
     "output_type": "stream",
     "text": [
      "Printing every other Pokemon\n",
      "['Pikachu', 'Bulbasaur', 'Dragonite']\n"
     ]
    }
   ],
   "source": [
    "print(\"Printing every other Pokemon\")\n",
    "print(pokemon[::2])"
   ]
  },
  {
   "cell_type": "code",
   "execution_count": 55,
   "id": "063d2681-dd83-4cd9-aea8-113856a04cb1",
   "metadata": {},
   "outputs": [
    {
     "name": "stdout",
     "output_type": "stream",
     "text": [
      "Printing the last Pokemon on the list...\n"
     ]
    },
    {
     "data": {
      "text/plain": [
       "'Onyx'"
      ]
     },
     "execution_count": 55,
     "metadata": {},
     "output_type": "execute_result"
    }
   ],
   "source": [
    "print(\"Printing the last Pokemon on the list...\")\n",
    "last_pokemon = pokemon[-1]\n",
    "pokemon[-1]"
   ]
  },
  {
   "cell_type": "code",
   "execution_count": 57,
   "id": "6f557e30-e3e2-42fb-a0e3-a536d98be796",
   "metadata": {},
   "outputs": [
    {
     "name": "stdout",
     "output_type": "stream",
     "text": [
      "Determining the order of Pokemon 'Gyarados'...\n",
      "['Pikachu', 'Charizard', 'Bulbasaur', 'Gyarados', 'Dragonite', 'Onyx']\n",
      "3\n"
     ]
    }
   ],
   "source": [
    "print(\"Determining the order of Pokemon 'Gyarados'...\")\n",
    "print(pokemon)\n",
    "print(pokemon.index(\"Gyarados\"))"
   ]
  },
  {
   "cell_type": "code",
   "execution_count": 58,
   "id": "f3eb62b2-0d04-48e5-902b-9851d0f68b82",
   "metadata": {},
   "outputs": [
    {
     "name": "stdout",
     "output_type": "stream",
     "text": [
      "Changing Pokemon name 'Picachu' to 'Raichu'...\n"
     ]
    },
    {
     "data": {
      "text/plain": [
       "'Raichu'"
      ]
     },
     "execution_count": 58,
     "metadata": {},
     "output_type": "execute_result"
    }
   ],
   "source": [
    "print(\"Changing Pokemon name 'Picachu' to 'Raichu'...\")\n",
    "pokemon[0] = 'Raichu'\n",
    "pokemon[0]"
   ]
  },
  {
   "cell_type": "code",
   "execution_count": 59,
   "id": "9b0c1781-1136-4ee7-af93-e3cc56e5bb51",
   "metadata": {},
   "outputs": [
    {
     "data": {
      "text/plain": [
       "['Raichu', 'Charizard', 'Bulbasaur', 'Gyarados', 'Dragonite', 'Onyx']"
      ]
     },
     "execution_count": 59,
     "metadata": {},
     "output_type": "execute_result"
    }
   ],
   "source": [
    "pokemon"
   ]
  },
  {
   "cell_type": "code",
   "execution_count": 60,
   "id": "56fa03f7-76b2-49c3-9581-6a0ccd0f85db",
   "metadata": {},
   "outputs": [
    {
     "name": "stdout",
     "output_type": "stream",
     "text": [
      "adding a new Pokemon to the end of the list...\n"
     ]
    },
    {
     "data": {
      "text/plain": [
       "'Magikarp'"
      ]
     },
     "execution_count": 60,
     "metadata": {},
     "output_type": "execute_result"
    }
   ],
   "source": [
    "print(\"adding a new Pokemon to the end of the list...\")\n",
    "pokemon.append(\"Magikarp\")\n",
    "pokemon[-1]"
   ]
  },
  {
   "cell_type": "code",
   "execution_count": 61,
   "id": "6dc61d51-6dc0-4489-a3c2-45dc3291515f",
   "metadata": {},
   "outputs": [
    {
     "data": {
      "text/plain": [
       "['Raichu',\n",
       " 'Charizard',\n",
       " 'Bulbasaur',\n",
       " 'Gyarados',\n",
       " 'Dragonite',\n",
       " 'Onyx',\n",
       " 'Magikarp']"
      ]
     },
     "execution_count": 61,
     "metadata": {},
     "output_type": "execute_result"
    }
   ],
   "source": [
    "pokemon"
   ]
  },
  {
   "cell_type": "code",
   "execution_count": 64,
   "id": "bdd316e3-1e14-41c8-a895-4ca395080068",
   "metadata": {},
   "outputs": [
    {
     "name": "stdout",
     "output_type": "stream",
     "text": [
      "removing 'Magikarp'...\n"
     ]
    }
   ],
   "source": [
    "print(\"removing 'Magikarp'...\")\n",
    "pokemon.remove('Magikarp')"
   ]
  },
  {
   "cell_type": "code",
   "execution_count": 65,
   "id": "e219ab07-cc29-4c6b-b9df-17dc94c305d5",
   "metadata": {},
   "outputs": [
    {
     "data": {
      "text/plain": [
       "['Raichu', 'Charizard', 'Bulbasaur', 'Gyarados', 'Dragonite', 'Onyx']"
      ]
     },
     "execution_count": 65,
     "metadata": {},
     "output_type": "execute_result"
    }
   ],
   "source": [
    "pokemon"
   ]
  },
  {
   "cell_type": "code",
   "execution_count": 68,
   "id": "b5a304af-2d87-4b6c-b96e-7b1247da9ba2",
   "metadata": {},
   "outputs": [
    {
     "name": "stdout",
     "output_type": "stream",
     "text": [
      "Removing 'Bulbasaur' based off of its index\n"
     ]
    },
    {
     "data": {
      "text/plain": [
       "['Raichu', 'Charizard', 'Gyarados', 'Dragonite', 'Onyx']"
      ]
     },
     "execution_count": 68,
     "metadata": {},
     "output_type": "execute_result"
    }
   ],
   "source": [
    "print(\"Removing 'Bulbasaur' based off of its index\")\n",
    "bulbasaur_index = pokemon.index(\"Bulbasaur\")\n",
    "pokemon.pop(bulbasaur_index)\n",
    "pokemon"
   ]
  },
  {
   "cell_type": "code",
   "execution_count": 74,
   "id": "9ebe3dfd-1c90-4d0c-a2c9-1d3ebef5c1c6",
   "metadata": {},
   "outputs": [
    {
     "name": "stdout",
     "output_type": "stream",
     "text": [
      "Calculating the nuber of Pokemon...\n",
      "5\n"
     ]
    }
   ],
   "source": [
    "print(\"Calculating the nuber of Pokemon...\")\n",
    "print(len(pokemon))"
   ]
  },
  {
   "cell_type": "code",
   "execution_count": 85,
   "id": "87982783-3b0c-457c-9ee1-14231c21140d",
   "metadata": {},
   "outputs": [
    {
     "name": "stdout",
     "output_type": "stream",
     "text": [
      "0\n",
      "Raichu\n",
      "1\n",
      "Charizard\n",
      "2\n",
      "Gyarados\n",
      "3\n",
      "Dragonite\n",
      "4\n",
      "Onyx\n"
     ]
    }
   ],
   "source": [
    "#for x in range(len(pokemon[x])):\n",
    "for x in range(5):\n",
    "    if not x == 5:\n",
    "        print(x)\n",
    "        print(pokemon[x])"
   ]
  },
  {
   "cell_type": "code",
   "execution_count": 79,
   "id": "308900d1-1e90-4143-b22a-4e1e40069c54",
   "metadata": {},
   "outputs": [
    {
     "data": {
      "text/plain": [
       "['Raichu', 'Charizard', 'Gyarados', 'Dragonite', 'Onyx']"
      ]
     },
     "execution_count": 79,
     "metadata": {},
     "output_type": "execute_result"
    }
   ],
   "source": [
    "pokemon"
   ]
  },
  {
   "cell_type": "code",
   "execution_count": 94,
   "id": "2e24fd4e-1e09-4552-bed0-bdc178df33b0",
   "metadata": {},
   "outputs": [],
   "source": [
    "#04-Stu_Iterate_Lists\n",
    "count = 0\n",
    "total = 0\n",
    "average = 0\n",
    "minimum = 0\n",
    "maximum = 0"
   ]
  },
  {
   "cell_type": "code",
   "execution_count": 87,
   "id": "c67e4b91-c781-43b6-86ab-cc229b5cc111",
   "metadata": {},
   "outputs": [],
   "source": [
    "profitable_days = []\n",
    "unprofitable_days = []"
   ]
  },
  {
   "cell_type": "code",
   "execution_count": 91,
   "id": "fedd6fe3-cbcf-419c-9d14-ee5a2467ba12",
   "metadata": {},
   "outputs": [],
   "source": [
    "trading_pnl = [-224,352,252,354,-544,-650,56,123,-43,254,325,-123,47,321,123,133,-151,613,232,-311]"
   ]
  },
  {
   "cell_type": "code",
   "execution_count": 110,
   "id": "5d924c5f-2dae-42bc-8ec7-498fce5a4ef1",
   "metadata": {},
   "outputs": [
    {
     "name": "stdout",
     "output_type": "stream",
     "text": [
      "The total is1139\n",
      "The average is 56.95\n",
      "The maximum is 613\n",
      "The minimum is -650\n",
      "---------Summary Statistics----------\n",
      "Number of Total Days: 20\n",
      "Number of Profitable Days: 13\n",
      "Number of Unprofitable Days: 7\n",
      "Percentage of Profitable Days: 65.0%\n",
      "Percentage of Unprofitable Days: 35.0%\n",
      "-------------------------------------\n",
      "Profitable Days: [352, 252, 354, 56, 123, 254, 325, 47, 321, 123, 133, 613, 232]\n",
      "Unprofitable Days: [-224, -544, -650, -43, -123, -151, -311]\n",
      "-------------------------------------\n",
      "Total Profits/Losses: 1139\n",
      "Daily Average: 56.95\n",
      "Worst Loss: -650\n",
      "Best Gain: 613\n"
     ]
    }
   ],
   "source": [
    "count = 0\n",
    "total = 0\n",
    "average = 0\n",
    "minimum = 0\n",
    "maximum = 0\n",
    "profitable_days = []\n",
    "unprofitable_days = []\n",
    "\n",
    "for day_pnl in trading_pnl:\n",
    "#    print(day_pnl)\n",
    "#    print(trading_pnl)\n",
    "    total = total + day_pnl\n",
    "    count = count + 1\n",
    "    \n",
    "    if minimum == 0:\n",
    "        minimum = day_pnl\n",
    "    elif day_pnl < minimum:\n",
    "        minimum = day_pnl\n",
    "    elif day_pnl > maximum:\n",
    "        maximum = day_pnl\n",
    "        \n",
    "    if day_pnl > 0:\n",
    "        profitable_days.append(day_pnl)\n",
    "    elif day_pnl <= 0:\n",
    "        unprofitable_days.append(day_pnl)\n",
    "\n",
    "print(\"The total is\" + str(total))\n",
    "average = round(total / count, 2)\n",
    "\n",
    "print(\"The average is \" + str(average))\n",
    "print(\"The maximum is \" + str(maximum))\n",
    "print(\"The minimum is \" + str(minimum))\n",
    "\n",
    "\n",
    "profitable_count = len(profitable_days)\n",
    "unprofitable_count = len(unprofitable_days)\n",
    "\n",
    "percent_profitable = profitable_count / count * 100\n",
    "percent_unprofitable = unprofitable_count / count * 100\n",
    "\n",
    "print(\"---------Summary Statistics----------\")\n",
    "print(f\"Number of Total Days: {count}\")\n",
    "print(f\"Number of Profitable Days: {profitable_count}\")\n",
    "print(f\"Number of Unprofitable Days: {unprofitable_count}\")\n",
    "print(f\"Percentage of Profitable Days: {percent_profitable}%\")\n",
    "print(f\"Percentage of Unprofitable Days: {percent_unprofitable}%\")\n",
    "print(\"-------------------------------------\")\n",
    "print(f\"Profitable Days: {profitable_days}\")\n",
    "print(f\"Unprofitable Days: {unprofitable_days}\")\n",
    "print(\"-------------------------------------\")\n",
    "print(f\"Total Profits/Losses: {total}\")\n",
    "print(f\"Daily Average: {average}\")\n",
    "print(f\"Worst Loss: {minimum}\")\n",
    "print(f\"Best Gain: {maximum}\")"
   ]
  },
  {
   "cell_type": "code",
   "execution_count": 112,
   "id": "83d99a0d-282f-42b9-85e5-2cf4c0e0ebe0",
   "metadata": {},
   "outputs": [],
   "source": [
    "#06-Stu_Dictionaries-Challenge\n",
    "banks = {\n",
    "    \"National Bank of Canada\": 327,\n",
    "    \"Toronto-Dominion Bank\": 302,\n",
    "    \"Royal Bank of Canada\": 173,\n",
    "    \"Wells Fargo\": 273,\n",
    "    \"Goldman Sachs\": 87,\n",
    "    \"Morgan Stanley\": 72,\n",
    "    \"Canadian Imperial Bank of Commerce\": 83,\n",
    "    \"TD Bank\": 108,\n",
    "    \"Bank of Montreal\": 67,\n",
    "    \"Capital One\": 47,\n",
    "    \"FNB Corporation\": 4,\n",
    "    \"Laurentian Bank of Canada\": 3,\n",
    "    \"Ally Financial\": 12,\n",
    "    \"Montreal Trust Company\": 145,\n",
    "    \"Canadian Western Bank\": .97\n",
    "}"
   ]
  },
  {
   "cell_type": "code",
   "execution_count": 114,
   "id": "3ad2d50c-4826-4bd3-8615-57dff5f25f3d",
   "metadata": {},
   "outputs": [],
   "source": [
    "banks[\"Royal Bank of Canada\"] = 170"
   ]
  },
  {
   "cell_type": "code",
   "execution_count": 115,
   "id": "62933101-f48c-4321-ba6c-ccb5b08f04bd",
   "metadata": {},
   "outputs": [
    {
     "data": {
      "text/plain": [
       "{'National Bank of Canada': 327,\n",
       " 'Toronto-Dominion Bank': 302,\n",
       " 'Royal Bank of Canada': 170,\n",
       " 'Wells Fargo': 273,\n",
       " 'Goldman Sachs': 87,\n",
       " 'Morgan Stanley': 72,\n",
       " 'Canadian Imperial Bank of Commerce': 83,\n",
       " 'TD Bank': 108,\n",
       " 'Bank of Montreal': 67,\n",
       " 'Capital One': 47,\n",
       " 'FNB Corporation': 4,\n",
       " 'Laurentian Bank of Canada': 3,\n",
       " 'Ally Financial': 12,\n",
       " 'Montreal Trust Company': 145,\n",
       " 'Canadian Western Bank': 0.97}"
      ]
     },
     "execution_count": 115,
     "metadata": {},
     "output_type": "execute_result"
    }
   ],
   "source": [
    "banks"
   ]
  },
  {
   "cell_type": "code",
   "execution_count": 117,
   "id": "69091bc7-6c8d-4ed0-bd32-9da2341e207a",
   "metadata": {},
   "outputs": [],
   "source": [
    "banks[\"Scotia Bank\"] = 33"
   ]
  },
  {
   "cell_type": "code",
   "execution_count": 122,
   "id": "3fc9ac32-4629-4d06-93e6-c67f9d719063",
   "metadata": {},
   "outputs": [],
   "source": [
    "#Remove a bank from the dictionary\n",
    "banks [\"Montreal Trust Company\"] = 230\n",
    "del banks[\"Montreal Trust Company\"]"
   ]
  },
  {
   "cell_type": "code",
   "execution_count": 119,
   "id": "6f142b37-5efa-4148-85f9-fe1d0123d250",
   "metadata": {},
   "outputs": [
    {
     "data": {
      "text/plain": [
       "{'National Bank of Canada': 327,\n",
       " 'Toronto-Dominion Bank': 302,\n",
       " 'Royal Bank of Canada': 170,\n",
       " 'Wells Fargo': 273,\n",
       " 'Goldman Sachs': 87,\n",
       " 'Morgan Stanley': 72,\n",
       " 'Canadian Imperial Bank of Commerce': 83,\n",
       " 'TD Bank': 108,\n",
       " 'Bank of Montreal': 67,\n",
       " 'Capital One': 47,\n",
       " 'FNB Corporation': 4,\n",
       " 'Laurentian Bank of Canada': 3,\n",
       " 'Ally Financial': 12,\n",
       " 'Canadian Western Bank': 0.97,\n",
       " 'Scotia Bank': 33}"
      ]
     },
     "execution_count": 119,
     "metadata": {},
     "output_type": "execute_result"
    }
   ],
   "source": [
    "banks"
   ]
  },
  {
   "cell_type": "code",
   "execution_count": 120,
   "id": "8f906188-4111-497e-a51c-42259a175ec8",
   "metadata": {},
   "outputs": [
    {
     "data": {
      "text/plain": [
       "15"
      ]
     },
     "execution_count": 120,
     "metadata": {},
     "output_type": "execute_result"
    }
   ],
   "source": [
    "len(banks)"
   ]
  },
  {
   "cell_type": "code",
   "execution_count": 131,
   "id": "9caedc10-e669-441c-8428-e87b7ed6af86",
   "metadata": {},
   "outputs": [
    {
     "name": "stdout",
     "output_type": "stream",
     "text": [
      "Name National Bank of Canada | market Cap: 327\n",
      "Name Toronto-Dominion Bank | market Cap: 302\n",
      "Name Royal Bank of Canada | market Cap: 170\n",
      "Name Wells Fargo | market Cap: 273\n",
      "Name Goldman Sachs | market Cap: 87\n",
      "Name Morgan Stanley | market Cap: 72\n",
      "Name Canadian Imperial Bank of Commerce | market Cap: 83\n",
      "Name TD Bank | market Cap: 108\n",
      "Name Bank of Montreal | market Cap: 67\n",
      "Name Capital One | market Cap: 47\n",
      "Name FNB Corporation | market Cap: 4\n",
      "Name Laurentian Bank of Canada | market Cap: 3\n",
      "Name Ally Financial | market Cap: 12\n",
      "Name Canadian Western Bank | market Cap: 0.97\n",
      "Name Scotia Bank | market Cap: 33\n"
     ]
    }
   ],
   "source": [
    "total_market_cap = 0\n",
    "bank_count = 0\n",
    "average = 0\n",
    "minimum_key = \"\"\n",
    "minimum_value = 0\n",
    "maximum_key = \"\"\n",
    "maximum_value = 0\n",
    "\n",
    "# Mega Cap: Firms with a market capitalization greater than or equal to $300 billion.\n",
    "# Large Cap: Firms with a market capitalization greater than or equal to $10 billion and less than $300 billion.\n",
    "# Mid Cap: A market capitalization greater than or equal to $2 and less than $10 billion.\n",
    "# Small Cap: A market capitalization greater than or equal to $300 million and less than $2 billion.\n",
    "mega_caps = []\n",
    "large_caps = []\n",
    "mid_caps = []\n",
    "small_caps = []\n",
    "bank_count\n",
    "for bank_name, market_cap in banks.items():\n",
    "#    print(banks.items())\n",
    "    print(f\"Name {bank_name} | market Cap: {market_cap}\")\n",
    "    \n",
    "    total_market_cap = total_market_cap + int(market_cap)\n",
    "    bank_count = bank_count + 1\n",
    "    \n",
    "    if minimum_value == 0:\n",
    "        minimum_value = market_cap\n",
    "        minimum_key = bank_name\n",
    "    elif market_cap < minimum_value:\n",
    "        minimum_value = market_cap\n",
    "        minimum_key = bank_name\n",
    "\n",
    "    if market_cap > maximum_value:\n",
    "        maximum_value = market_cap\n",
    "        maximum_key = bank_name\n",
    "        \n",
    "    if market_cap >= 300:\n",
    "        mega_caps.append(bank_name)\n",
    "    elif market_cap >= 10 and market_cap < 300:\n",
    "        large_caps.append(bank_name)\n",
    "    elif market_cap >= 2 and market_cap < 10:\n",
    "        mid_caps.append(bank_name)\n",
    "    elif market_cap < 2 and market_cap >= .03:\n",
    "        small_caps.append(bank_name)\n",
    "        \n",
    "avg_market_cap = round(total_market_cap / bank_count, 2)\n",
    "\n"
   ]
  },
  {
   "cell_type": "code",
   "execution_count": 132,
   "id": "d0fadffe-bda9-41b1-a9dd-3504b54fc96a",
   "metadata": {},
   "outputs": [
    {
     "name": "stdout",
     "output_type": "stream",
     "text": [
      "Total Market Capitalization: 1588\n",
      "Total Number of Banks: 15\n",
      "Average Market Capitalization: 105.87\n",
      "Largest Bank: National Bank of Canada\n",
      "Smallest Bank: Canadian Western Bank\n",
      "------------------------------------------------\n",
      "Mega Cap Banks: ['National Bank of Canada', 'Toronto-Dominion Bank']\n",
      "Large Cap Banks: ['Royal Bank of Canada', 'Wells Fargo', 'Goldman Sachs', 'Morgan Stanley', 'Canadian Imperial Bank of Commerce', 'TD Bank', 'Bank of Montreal', 'Capital One', 'Ally Financial', 'Scotia Bank']\n",
      "Mid Cap Banks: ['FNB Corporation', 'Laurentian Bank of Canada']\n",
      "Small Cap Banks: ['Canadian Western Bank']\n"
     ]
    }
   ],
   "source": [
    "# Print the metrics\n",
    "print(f\"Total Market Capitalization: {total_market_cap}\")\n",
    "print(f\"Total Number of Banks: {bank_count}\")\n",
    "print(f\"Average Market Capitalization: {avg_market_cap}\")\n",
    "print(f\"Largest Bank: {maximum_key}\")\n",
    "print(f\"Smallest Bank: {minimum_key}\")\n",
    "print(\"------------------------------------------------\")\n",
    "print(f\"Mega Cap Banks: {mega_caps}\")\n",
    "print(f\"Large Cap Banks: {large_caps}\")\n",
    "print(f\"Mid Cap Banks: {mid_caps}\")\n",
    "print(f\"Small Cap Banks: {small_caps}\")"
   ]
  },
  {
   "cell_type": "code",
   "execution_count": 81,
   "id": "6725a918-dfbd-49a8-a21e-c0df34396a81",
   "metadata": {},
   "outputs": [],
   "source": [
    "#08-stu_Nesting Challenge\n",
    "historical_stock_data = {\n",
    "    \"AAPL\": [\n",
    "        [\"04-17-2019\", 199.54, 203.38, 198.61, 203.13],\n",
    "        [\"04-18-2019\", 199.46, 201.37, 198.56, 199.25],\n",
    "        [\"04-19-2019\", 198.58, 199.85, 198.01, 199.23],\n",
    "        [\"04-20-2019\", 199.20, 200.14, 196.21, 198.87],\n",
    "\n",
    "    ],\n",
    "    \"MU\": [\n",
    "        [\"04-17-2019\", 43.20, 43.53, 42.79, 43.40],\n",
    "        [\"04-18-2019\", 43.36, 44.05, 42.76, 43.15],\n",
    "        [\"04-19-2019\", 42.26, 42.93, 42.08, 42.76],\n",
    "        [\"04-20-2019\", 42.17, 42.23, 41.20, 41.82],\n",
    "\n",
    "    ],\n",
    "    \"AMD\": [\n",
    "        [\"04-17-2019\", 27.60, 27.88, 27.34, 27.68],\n",
    "        [\"04-18-2019\", 28.21, 28.27, 27.22, 27.49],\n",
    "        [\"04-19-2019\", 27.72, 28.18, 27.49, 27.93],\n",
    "        [\"04-20-2019\", 27.80, 27.84, 26.96, 27.33],\n",
    "\n",
    "    ],\n",
    "    \"TWTR\": [\n",
    "        [\"04-17-2019\", 34.67, 34.86, 34.32, 34.40],\n",
    "        [\"04-18-2019\", 34.73, 34.90, 34.20, 34.48],\n",
    "        [\"04-19-2019\", 34.84, 34.99, 34.23, 34.46],\n",
    "        [\"04-20-2019\", 34.38, 35.03, 34.34, 34.71],\n",
    "\n",
    "    ]\n",
    "}\n",
    "\n",
    "#print(historical_stock_data[\"MU\"][04-17-2019])"
   ]
  },
  {
   "cell_type": "code",
   "execution_count": 5,
   "id": "1efe6ee3-ad74-411c-a47a-e3a6951754ad",
   "metadata": {},
   "outputs": [],
   "source": [
    "new_records = {\n",
    "    \"AAPL\": {\n",
    "        \"date\": \"04-21-2019\",\n",
    "        \"open\": 200.85,\n",
    "        \"high\": 201.00,\n",
    "        \"low\": 198.44,\n",
    "        \"close\": 198.95\n",
    "    },\n",
    "    \"MU\": {\n",
    "        \"date\": \"04-21-2019\",\n",
    "        \"open\": 42.85,\n",
    "        \"high\": 43.20,\n",
    "        \"low\": 41.81,\n",
    "        \"close\": 42.01\n",
    "    },\n",
    "    \"AMD\": {\n",
    "        \"date\": \"04-21-2019\",\n",
    "        \"open\": 28.21,\n",
    "        \"high\": 28.38,\n",
    "        \"low\": 27.66,\n",
    "        \"close\": 27.85\n",
    "    },\n",
    "    \"TWTR\": {\n",
    "        \"date\": \"04-21-2019\",\n",
    "        \"open\": 34.67,\n",
    "        \"high\": 34.83,\n",
    "        \"low\": 34.11,\n",
    "        \"close\": 34.37\n",
    "    }\n",
    "}"
   ]
  },
  {
   "cell_type": "code",
   "execution_count": 7,
   "id": "f424c57d-8065-418b-b33d-4936f1403ad7",
   "metadata": {},
   "outputs": [],
   "source": [
    "# Set each ticker's new record: date, open, high, low, close\n",
    "new_aapl_record = [new_records['AAPL']['date'], new_records['AAPL']['open'],new_records['AAPL']['high'],new_records['AAPL']['low'],new_records['AAPL']['close']]\n",
    "new_mu_record = [new_records['MU']['date'],new_records['MU']['open'],new_records['MU']['high'],new_records['MU']['low'],new_records['MU']['close']]\n",
    "new_amd_record = [new_records['AMD']['date'], new_records['AMD']['open'], new_records['AMD']['high'], new_records['AMD']['low'], new_records['AMD']['close']]\n",
    "new_twtr_record = [new_records['TWTR']['date'], new_records['TWTR']['open'], new_records['TWTR']['high'], new_records['TWTR']['low'], new_records['TWTR']['close']]"
   ]
  },
  {
   "cell_type": "code",
   "execution_count": 8,
   "id": "39e86cd5-186b-4105-9b2d-2a332b8787d3",
   "metadata": {},
   "outputs": [
    {
     "name": "stdout",
     "output_type": "stream",
     "text": [
      "['04-21-2019', 200.85, 201.0, 198.44, 198.95]\n"
     ]
    }
   ],
   "source": [
    "print(new_aapl_record)"
   ]
  },
  {
   "cell_type": "code",
   "execution_count": 9,
   "id": "a5742e23-6bd8-4716-9c8c-74eaa416d221",
   "metadata": {},
   "outputs": [],
   "source": [
    "historical_stock_data['AAPL'].append([new_aapl_record])\n",
    "historical_stock_data['MU'].append([new_mu_record])\n",
    "historical_stock_data['AMD'].append([new_amd_record])\n",
    "historical_stock_data['TWTR'].append([new_aapl_record])"
   ]
  },
  {
   "cell_type": "code",
   "execution_count": 23,
   "id": "53d7e8b6-8bd4-496d-bd91-db7d48becfef",
   "metadata": {},
   "outputs": [
    {
     "name": "stdout",
     "output_type": "stream",
     "text": [
      "dict_items([('AAPL', [['04-17-2019', 199.54, 203.38, 198.61, 203.13], ['04-18-2019', 199.46, 201.37, 198.56, 199.25], ['04-19-2019', 198.58, 199.85, 198.01, 199.23], ['04-20-2019', 199.2, 200.14, 196.21, 198.87], [['04-21-2019', 200.85, 201.0, 198.44, 198.95]]]), ('MU', [['04-17-2019', 43.2, 43.53, 42.79, 43.4], ['04-18-2019', 43.36, 44.05, 42.76, 43.15], ['04-19-2019', 42.26, 42.93, 42.08, 42.76], ['04-20-2019', 42.17, 42.23, 41.2, 41.82], [['04-21-2019', 42.85, 43.2, 41.81, 42.01]]]), ('AMD', [['04-17-2019', 27.6, 27.88, 27.34, 27.68], ['04-18-2019', 28.21, 28.27, 27.22, 27.49], ['04-19-2019', 27.72, 28.18, 27.49, 27.93], ['04-20-2019', 27.8, 27.84, 26.96, 27.33], [['04-21-2019', 28.21, 28.38, 27.66, 27.85]]]), ('TWTR', [['04-17-2019', 34.67, 34.86, 34.32, 34.4], ['04-18-2019', 34.73, 34.9, 34.2, 34.48], ['04-19-2019', 34.84, 34.99, 34.23, 34.46], ['04-20-2019', 34.38, 35.03, 34.34, 34.71], [['04-21-2019', 200.85, 201.0, 198.44, 198.95]]])])\n"
     ]
    }
   ],
   "source": [
    "#print(historical_stock_data['AAPL'])\n",
    "print(historical_stock_data.items())"
   ]
  },
  {
   "cell_type": "code",
   "execution_count": 36,
   "id": "dd8ed567-ba28-4797-a617-29b337ed069e",
   "metadata": {},
   "outputs": [
    {
     "name": "stdout",
     "output_type": "stream",
     "text": [
      "Begenning  203.13\n",
      "Ending  198.87\n",
      "-2.1\n",
      "-2.1\n",
      "AAPL\n",
      "Begenning  43.4\n",
      "Ending  41.82\n",
      "-3.64\n",
      "-3.64\n",
      "MU\n",
      "Begenning  27.68\n",
      "Ending  27.33\n",
      "-1.26\n",
      "-1.26\n",
      "AMD\n",
      "Begenning  34.4\n",
      "Ending  34.71\n",
      "0.9\n",
      "0.9\n",
      "TWTR\n"
     ]
    }
   ],
   "source": [
    "results = {}\n",
    "\n",
    "\"\"\"ticker_data(example)\"AAPL\":[[\"04-17-2019\", 199.54, 203.38, 198.61, 203.13],[\"04-18-2019\", 199.46, 201.37, 198.56, 199.25],[\"04-19-2019\", 198.58, 199.85, 198.01, 199.23],[\"04-20-2019\", 199.20, 200.14, 196.21, 198.87]]\"\"\"\n",
    "\"\"\" Dic:Indx Dic:Elements\"\"\"\n",
    "for ticker, ticker_data in historical_stock_data.items(): \n",
    "    beginning_week_close = ticker_data[0][4]\n",
    "    ending_week_close = ticker_data[3][4]\n",
    "#    print(historical_stock_data.items())\n",
    "    print(\"Begenning \", beginning_week_close)\n",
    "    print(\"Ending \", ending_week_close)\n",
    "    ticker_weekly_change = round((ending_week_close - beginning_week_close)/beginning_week_close * 100,2)\n",
    "#    ticker_weekly_change = (ending_week_close - beginning_week_close)/beginning_week_close * 100\n",
    "    print(ticker_weekly_change)\n",
    "    results[ticker] = ticker_weekly_change\n",
    "    print(results[ticker])\n",
    "    print(ticker)"
   ]
  },
  {
   "cell_type": "code",
   "execution_count": 42,
   "id": "12bf999c-9d1f-4cef-af7e-7f7e43f43ab2",
   "metadata": {},
   "outputs": [
    {
     "name": "stdout",
     "output_type": "stream",
     "text": [
      "FIrst year growth is  16000.0\n",
      "Compound Annual Growth Rate for 2016: 0.55%\n",
      "Second year growth is  2000.0\n",
      "Compound Annual Growth Rate for 2017: 0.04%\n",
      "Third year growth is  1930.0\n",
      "Compound Annual Growth Rate for 2018: 0.04%\n"
     ]
    }
   ],
   "source": [
    "#10-Stu_functions\n",
    "beginning_bal = 29000.00\n",
    "ending_bal = 45000.00\n",
    "years = 1.0\n",
    "\n",
    "year_one_diff = ending_bal - beginning_bal\n",
    "\n",
    "def calculate_compound_growth_rate(beginning_bal, ending_bal, years):\n",
    "    growth_rate = (ending_bal / beginning_bal)**(1/years) -1\n",
    "    return growth_rate\n",
    "\n",
    "year_one_growth = calculate_compound_growth_rate(beginning_bal, ending_bal, years)\n",
    "\n",
    "beginning_bal = 45000.00\n",
    "ending_bal = 47000.00\n",
    "#years = 2.0\n",
    "year_two_diff  = ending_bal - beginning_bal\n",
    "\n",
    "year_two_growth = calculate_compound_growth_rate(beginning_bal, ending_bal, years)\n",
    "\n",
    "\n",
    "beginning_bal = 47000.00\n",
    "ending_bal = 48930.00\n",
    "#years = 3.0\n",
    "year_three_diff = ending_bal - beginning_bal\n",
    "\n",
    "\n",
    "year_three_growth = calculate_compound_growth_rate(beginning_bal, ending_bal, years)\n",
    "\n",
    "year_one_growth_rnd = round(year_one_growth,2)\n",
    "year_two_growth_rnd = round(year_two_growth,2)\n",
    "year_three_growth_rnd = round(year_three_growth,2)\n",
    "\n",
    "print(\"FIrst year growth is \",year_one_diff)\n",
    "print(f\"Compound Annual Growth Rate for 2016: {year_one_growth_rnd}%\")\n",
    "print(\"Second year growth is \",year_two_diff)\n",
    "print(f\"Compound Annual Growth Rate for 2017: {year_two_growth_rnd}%\")\n",
    "print(\"Third year growth is \",year_three_diff)\n",
    "print(f\"Compound Annual Growth Rate for 2018: {year_three_growth_rnd}%\")"
   ]
  },
  {
   "cell_type": "code",
   "execution_count": 74,
   "id": "40c5020e-7df3-4509-aa2d-b536b6424ac6",
   "metadata": {},
   "outputs": [
    {
     "name": "stdout",
     "output_type": "stream",
     "text": [
      "[0.55, 0.04, 0.04]\n",
      "[0.55, 0.04, 0.04]\n",
      "{'year': [1, 2, 3], 'growth_rate': [0.55, 0.04, 0.04]}\n",
      "dict_keys(['year', 'growth_rate'])\n"
     ]
    }
   ],
   "source": [
    "growth_rates = list()\n",
    "growth_rate_chart = {'year':[],'growth_rate':[]}\n",
    "years = 1\n",
    "\n",
    "def calculate_compound_growth_rate_list(beginning_bal, ending_bal, years, year_name, ctr):\n",
    "    growth_rate = (ending_bal/beginning_bal)**(1/years) -1\n",
    "    growth_rates.append(round(growth_rate,2))\n",
    "    \n",
    "    growth_rate_chart['year'].append(ctr)\n",
    "    growth_rate_chart['growth_rate'].append(round(growth_rate,2))\n",
    "    \n",
    "beginning_bal = 29000.00\n",
    "ending_bal = 45000.00\n",
    "year_name = \"First year\"\n",
    "ctr = 1\n",
    "calculate_compound_growth_rate_list(beginning_bal, ending_bal, years, year_name, ctr)\n",
    "\n",
    "beginning_bal = 45000.00\n",
    "ending_bal = 47000.00\n",
    "year_name = \"Second year\"\n",
    "ctr = 2\n",
    "calculate_compound_growth_rate_list(beginning_bal, ending_bal, years, year_name, ctr)\n",
    "\n",
    "beginning_bal = 47000.00\n",
    "ending_bal = 48930.00\n",
    "year_name = \"Third year\"\n",
    "ctr = 3\n",
    "calculate_compound_growth_rate_list(beginning_bal, ending_bal, years, year_name, ctr)\n",
    "\n",
    "#print(growth_rates)\n",
    "#print(\"Year \",growth_rate_chart['year'], f\" | Growth rate is {growth_rate_chart['growth_rate']}%\")\n",
    "\n",
    "for y, gro_rate in growth_rate_chart.items():\n",
    "    print(growth_rate_chart['growth_rate'])\n",
    "    \n",
    "print(growth_rate_chart)\n",
    "print(growth_rate_chart.keys())\n",
    "\n"
   ]
  },
  {
   "cell_type": "code",
   "execution_count": 55,
   "id": "42c1c7f0-3d25-4e46-bb71-cb613678010f",
   "metadata": {},
   "outputs": [
    {
     "name": "stdout",
     "output_type": "stream",
     "text": [
      "{'name': 'Tom', 'age': 25, 'payroll': ['RBC', 'TD']}\n"
     ]
    }
   ],
   "source": [
    "employee = {'name':'Tom', 'age':25, 'payroll':['RBC','TD']}\n",
    "print(employee)"
   ]
  },
  {
   "cell_type": "code",
   "execution_count": 2,
   "id": "c28787a3-a457-48c3-a7f0-07a44c40af7c",
   "metadata": {},
   "outputs": [
    {
     "name": "stdout",
     "output_type": "stream",
     "text": [
      "X is equal to 1\n"
     ]
    }
   ],
   "source": [
    "#Class3 01-Ins_Refresher\n",
    "title = \"Frankfurter\"\n",
    "years = 23\n",
    "hourly_wage = 65.4\n",
    "expert_status = True\n",
    "\n",
    "x = 1\n",
    "y = 10\n",
    "\n",
    "if x == 1:\n",
    "    print(\"X is equal to 1\")\n",
    "else:\n",
    "    print(\"X is not equal to 1\")"
   ]
  },
  {
   "cell_type": "code",
   "execution_count": 3,
   "id": "58581082-f5d1-4f41-abf3-570244a9d373",
   "metadata": {},
   "outputs": [
    {
     "name": "stdout",
     "output_type": "stream",
     "text": [
      "['Pikachu', 'Charizard', 'Bulbasaur', 'Garydos', 'Dragonite', 'Onyx']\n"
     ]
    }
   ],
   "source": [
    "pokemon = [\"Pikachu\",\"Charizard\",\"Bulbasaur\",\"Garydos\",\"Dragonite\",\"Onyx\"]\n",
    "print(pokemon)"
   ]
  },
  {
   "cell_type": "code",
   "execution_count": 6,
   "id": "8f262078-53bb-4476-9ca6-59b2e17b4aec",
   "metadata": {},
   "outputs": [],
   "source": [
    "del pokemon[-1]"
   ]
  },
  {
   "cell_type": "code",
   "execution_count": 8,
   "id": "d2b627ea-34af-4e35-8f16-ad077981ce0f",
   "metadata": {},
   "outputs": [
    {
     "name": "stdout",
     "output_type": "stream",
     "text": [
      "['Pikachu', 'Bulbasaur', 'Dragonite']\n"
     ]
    }
   ],
   "source": [
    "print(pokemon[0::2])"
   ]
  },
  {
   "cell_type": "code",
   "execution_count": 11,
   "id": "74cedaa1-1c9d-4d13-8c43-d8a9e670d719",
   "metadata": {},
   "outputs": [
    {
     "name": "stdout",
     "output_type": "stream",
     "text": [
      "{'title': 'Trading Log', '03-18-2019': -224, '03-19-2019': 352, '03-20-2019': 252, '03-21-2019': 354, '03-22-2019': -544, '03-23-2019': -650, '03-24-2019': 56, '03-25-2019': 123, '03-26-2019': -43, '03-27-2019': 254, '03-28-2019': 325, '03-29-2019': -123, '03-30-2019': 47, '03-31-2019': 321, '04-01-2019': 123, '04-02-2019': 133, '04-03-2019': -151, '04-04-2019': 613, '04-05-2019': 232, '04-06-2019': -311}\n"
     ]
    }
   ],
   "source": [
    "trading_pnl = {}\n",
    "\n",
    "trading_pnl = {\n",
    "    \"title\": \"Trading Log\",\n",
    "    \"03-18-2019\": -224,\n",
    "    \"03-19-2019\": 352,\n",
    "    \"03-20-2019\": 252,\n",
    "    \"03-21-2019\": 354,\n",
    "    \"03-22-2019\": -544,\n",
    "    \"03-23-2019\": -650,\n",
    "    \"03-24-2019\": 56,\n",
    "    \"03-25-2019\": 123,\n",
    "    \"03-26-2019\": -43,\n",
    "    \"03-27-2019\": 254,\n",
    "    \"03-28-2019\": 325,\n",
    "    \"03-29-2019\": -123,\n",
    "    \"03-30-2019\": 47,\n",
    "    \"03-31-2019\": 321,\n",
    "    \"04-01-2019\": 123,\n",
    "    \"04-02-2019\": 133,\n",
    "    \"04-03-2019\": -151,\n",
    "    \"04-04-2019\": 613,\n",
    "    \"04-05-2019\": 232,\n",
    "    \"04-06-2019\": -311\n",
    "}\n",
    "print(trading_pnl)\n",
    "\n"
   ]
  },
  {
   "cell_type": "code",
   "execution_count": 13,
   "id": "a9974390-87ac-4844-a27b-a74115139db7",
   "metadata": {},
   "outputs": [
    {
     "name": "stdout",
     "output_type": "stream",
     "text": [
      "0\n",
      "1\n",
      "2\n",
      "3\n",
      "4\n"
     ]
    }
   ],
   "source": [
    "for x in range (5):\n",
    "    print(x)"
   ]
  },
  {
   "cell_type": "code",
   "execution_count": 22,
   "id": "efdcec17-21f9-4515-b566-28f90562e87b",
   "metadata": {},
   "outputs": [
    {
     "name": "stdout",
     "output_type": "stream",
     "text": [
      "r\n"
     ]
    },
    {
     "data": {
      "text/plain": [
       "21"
      ]
     },
     "execution_count": 22,
     "metadata": {},
     "output_type": "execute_result"
    }
   ],
   "source": [
    "#count = 0\n",
    "#for title, trading_log in len(trading_pnl):\n",
    "#    print(trading_pnl[count][0]\n",
    "#    count = count + 1 \n",
    "\n",
    "print(trading_pnl[\"title\"][1])\n",
    "len(trading_pnl)"
   ]
  },
  {
   "cell_type": "code",
   "execution_count": 24,
   "id": "6d11006a-1353-483d-a546-00b43841ccb6",
   "metadata": {},
   "outputs": [
    {
     "name": "stdout",
     "output_type": "stream",
     "text": [
      "Your message is Hello World\n"
     ]
    }
   ],
   "source": [
    "def main(word):\n",
    "    print(f\"Your message is {word}\")\n",
    "\n",
    "main(\"Hello World\")"
   ]
  },
  {
   "cell_type": "code",
   "execution_count": 25,
   "id": "e2627c28-9540-477d-944c-288c988ba458",
   "metadata": {},
   "outputs": [
    {
     "name": "stdout",
     "output_type": "stream",
     "text": [
      "{'name': 'Warren Buffet', 'age': 88, 'occupation': 'CEO of Berkshire Hathaway'}\n",
      "{'name': 'Jeff Bezos', 'age': 55, 'occupation': 'CEO of Amazon'}\n",
      "{'name': 'Harry Markowitz', 'age': 91, 'occupation': 'Professor of Finance'}\n"
     ]
    }
   ],
   "source": [
    "ceo_nested_dict = [\n",
    "  {\n",
    "      \"name\": \"Warren Buffet\",\n",
    "      \"age\": 88,\n",
    "      \"occupation\": \"CEO of Berkshire Hathaway\"\n",
    "  },\n",
    "  {\n",
    "      \"name\": \"Jeff Bezos\",\n",
    "      \"age\": 55,\n",
    "      \"occupation\": \"CEO of Amazon\"\n",
    "  },\n",
    "  {\n",
    "      \"name\": \"Harry Markowitz\",\n",
    "      \"age\": 91,\n",
    "      \"occupation\": \"Professor of Finance\"\n",
    "  }\n",
    "]\n",
    "\n",
    "for x in ceo_nested_dict:\n",
    "    print(x)"
   ]
  },
  {
   "cell_type": "code",
   "execution_count": 26,
   "id": "d945fc43-634b-418a-b4bb-6f94ee0ab394",
   "metadata": {},
   "outputs": [
    {
     "name": "stdout",
     "output_type": "stream",
     "text": [
      "[{'name': 'Warren Buffet', 'age': 88, 'occupation': 'CEO of Berkshire Hathaway'}, {'name': 'Jeff Bezos', 'age': 55, 'occupation': 'CEO of Amazon'}, {'name': 'Harry Markowitz', 'age': 91, 'occupation': 'Professor of Finance'}]\n"
     ]
    }
   ],
   "source": [
    "print(ceo_nested_dict)"
   ]
  },
  {
   "cell_type": "code",
   "execution_count": 30,
   "id": "f1a24671-f8e0-427d-999b-c5a6ddd7b3da",
   "metadata": {},
   "outputs": [
    {
     "name": "stdout",
     "output_type": "stream",
     "text": [
      "{'name': 'Warren Buffet', 'age': 88, 'occupation': 'CEO of Berkshire Hathaway'}\n"
     ]
    }
   ],
   "source": [
    "print (ceo_nested_dict[0])"
   ]
  },
  {
   "cell_type": "code",
   "execution_count": 31,
   "id": "9c8bcc93-50e3-4cbe-9135-3b93dd9f4e8f",
   "metadata": {},
   "outputs": [
    {
     "name": "stdout",
     "output_type": "stream",
     "text": [
      "88\n"
     ]
    }
   ],
   "source": [
    "print(ceo_nested_dict[0][\"age\"])"
   ]
  },
  {
   "cell_type": "code",
   "execution_count": 35,
   "id": "06f557ae-468c-42fd-a7c9-fe43172d9b1b",
   "metadata": {},
   "outputs": [],
   "source": [
    "customers = [\n",
    "    { \"first_name\": \"Tom\", \"last_name\": \"Bell\", \"revenue\": 0 },\n",
    "    { \"first_name\": \"Maggie\", \"last_name\": \"Johnson\", \"revenue\": 1032 },\n",
    "    { \"first_name\": \"John\", \"last_name\": \"Spectre\", \"revenue\": 2543 },\n",
    "    { \"first_name\": \"Susy\", \"last_name\": \"Simmons\", \"revenue\": 5322 }\n",
    "]"
   ]
  },
  {
   "cell_type": "code",
   "execution_count": 54,
   "id": "7e0e796e-2549-46c5-9f5c-703c95e6a012",
   "metadata": {},
   "outputs": [
    {
     "name": "stdout",
     "output_type": "stream",
     "text": [
      "Bronze\n",
      "Congratulations customer  Tom   Bell Your revenue is  0 !!. You are  Bronze  customer!\n",
      "Tom\n",
      "Silver\n",
      "Congratulations customer  Maggie   Johnson Your revenue is  1032 !!. You are  Silver  customer!\n",
      "Tom\n",
      "Gold\n",
      "Congratulations customer  John   Spectre Your revenue is  2543 !!. You are  Gold  customer!\n",
      "Tom\n",
      "Platinum\n",
      "Congratulations customer  Susy   Simmons Your revenue is  5322 !!. You are  Platinum  customer!\n",
      "Tom\n"
     ]
    }
   ],
   "source": [
    "def greetings(f_name,l_name,revenue):\n",
    "    \n",
    "    if revenue >= 3001:\n",
    "        tier = \"Platinum\"\n",
    "    elif revenue <= 3000 and revenue >= 2001:\n",
    "        tier = \"Gold\"\n",
    "    elif revenue <= 2000 and revenue >= 1001:\n",
    "        tier = \"Silver\"\n",
    "    else:\n",
    "        tier = \"Bronze\"\n",
    "    \n",
    "    return tier\n",
    "\n",
    "for customer in customers:\n",
    "    message = greetings(customer[\"first_name\"],customer[\"last_name\"],customer[\"revenue\"])\n",
    "    print(message)\n",
    "    print(\"Congratulations customer \", customer[\"first_name\"], \" \",customer[\"last_name\"], \"Your revenue is \", customer[\"revenue\"], \"!!. You are \", message, \" customer!\")\n",
    "\n",
    "    print(customers[0][\"first_name\"])    \n",
    "    \n"
   ]
  },
  {
   "cell_type": "code",
   "execution_count": 55,
   "id": "c595f871-2e2d-4311-bbad-318e4d95250a",
   "metadata": {},
   "outputs": [
    {
     "name": "stdout",
     "output_type": "stream",
     "text": [
      "November 26, 2022\n"
     ]
    }
   ],
   "source": [
    "import datetime\n",
    " \n",
    "today = datetime.datetime.today()\n",
    "print(f\"{today:%B %d, %Y}\")"
   ]
  },
  {
   "cell_type": "code",
   "execution_count": 71,
   "id": "c2f00899-9497-4451-a28e-2cdb7224042c",
   "metadata": {},
   "outputs": [],
   "source": [
    "#04-Stu_Time_Value_of_Money\n",
    "\n",
    "def calculate_present_value(f_value, discount_rate, compounding_periods, years):\n",
    "    \n",
    "    present_value = f_value/(1+(discount_rate/compounding_periods))**(compounding_periods * years)\n",
    "    \n",
    "    present_value_formatted = round(present_value,2)\n",
    "\n",
    "    return round(present_value,2)\n",
    "#    return present_value_formatted"
   ]
  },
  {
   "cell_type": "code",
   "execution_count": 76,
   "id": "1d7865fc-2c9c-497b-bee4-235d732397db",
   "metadata": {},
   "outputs": [],
   "source": [
    "price = 400\n",
    "f_value = 1000\n",
    "discount_rate = 0.5\n",
    "compounding_periods = 1\n",
    "years = 5\n",
    "\n",
    "bond_value = calculate_present_value(f_value, discount_rate, compounding_periods, years)"
   ]
  },
  {
   "cell_type": "code",
   "execution_count": 77,
   "id": "3b2b6b60-e3ce-47fe-9a35-3feb7c4aa5f7",
   "metadata": {},
   "outputs": [
    {
     "name": "stdout",
     "output_type": "stream",
     "text": [
      "The bond is selling at a price of $400 and is valued at $131.69.\n",
      "A premium of 268.31 exists, therefore you do not want ot buy the bond.\n"
     ]
    }
   ],
   "source": [
    "if bond_value > price:\n",
    "    discount = round(bond_value - price,2)\n",
    "    print(f\"The bond is selling at a price of ${price} and is valued at ${bond_value}.\")\n",
    "    print(f\"A discount of {discount} exists, therefore you want to buy the bond.\")\n",
    "elif bond_value < price:\n",
    "    premium = round(price-bond_value,2)\n",
    "    print(f\"The bond is selling at a price of ${price} and is valued at ${bond_value}.\")\n",
    "    print(f\"A premium of {premium} exists, therefore you do not want ot buy the bond.\")\n",
    "else:\n",
    "    print(f\"The bond is selling at a price of ${price} and is valued at ${bond_price}.\")\n",
    "    print(f\"The bond is selling at its present value, you are newtral\")"
   ]
  },
  {
   "cell_type": "code",
   "execution_count": 81,
   "id": "1a9d7242-2f6c-4f49-8d16-beb42620c812",
   "metadata": {},
   "outputs": [],
   "source": [
    "#Class 3 06-Stu_Imports\n",
    "import numpy_financial as npf\n",
    "\n",
    "discount_rate=.1\n",
    "\n",
    "cash_flows_conservative=[-1000,400,400,400,400]\n",
    "cash_flows_neutral=[-1500,600,600,600,600]\n",
    "cash_flows_aggressive=[-2250,800,800,800,800]"
   ]
  },
  {
   "cell_type": "code",
   "execution_count": 79,
   "id": "61b1457d-af14-4830-bd5c-c8188902e2fb",
   "metadata": {},
   "outputs": [],
   "source": [
    "npv_dict = {}"
   ]
  },
  {
   "cell_type": "code",
   "execution_count": 84,
   "id": "011c1135-8c1f-4cca-b7e0-5fdedf47830f",
   "metadata": {},
   "outputs": [
    {
     "name": "stdout",
     "output_type": "stream",
     "text": [
      "{'conservative': 267.94617853971704, 'nuetral': 401.91926780957544, 'aggressive': 285.8923570794341}\n"
     ]
    }
   ],
   "source": [
    "npv_dict['conservative']=npf.npv(discount_rate, cash_flows_conservative)\n",
    "npv_dict['nuetral']=npf.npv(discount_rate, cash_flows_neutral)\n",
    "npv_dict['aggressive']=npf.npv(discount_rate, cash_flows_aggressive)\n",
    "\n",
    "print(npv_dict)\n"
   ]
  },
  {
   "cell_type": "code",
   "execution_count": 86,
   "id": "d29fca0e-1d4d-4f34-ad66-f438ad8d2a9b",
   "metadata": {},
   "outputs": [
    {
     "name": "stdout",
     "output_type": "stream",
     "text": [
      "267.94617853971704\n",
      "401.91926780957544\n",
      "285.8923570794341\n"
     ]
    }
   ],
   "source": [
    "for npv_dic in npv_dict:\n",
    "    print(npv_dict[npv_dic])"
   ]
  },
  {
   "cell_type": "code",
   "execution_count": 88,
   "id": "c3fc20e9-8cec-41dd-a8cf-ba781f308c50",
   "metadata": {},
   "outputs": [
    {
     "name": "stdout",
     "output_type": "stream",
     "text": [
      "conservative267.94617853971704\n",
      "nuetral401.91926780957544\n",
      "aggressive285.8923570794341\n"
     ]
    }
   ],
   "source": [
    "max_value = 0\n",
    "max_key = 0\n",
    "\n",
    "for key, value in npv_dict.items():\n",
    "    print(f\"{key}{value}\")\n",
    "    \n",
    "    if max_value ==0:\n",
    "        max_value = value\n",
    "        max_key = key\n",
    "    elif value > max_value:\n",
    "        max_value = value\n",
    "        max_key = key\n",
    "        \n",
    "        "
   ]
  },
  {
   "cell_type": "code",
   "execution_count": 89,
   "id": "8bef05aa-9678-4042-a39c-57d62dc4a91d",
   "metadata": {},
   "outputs": [
    {
     "name": "stdout",
     "output_type": "stream",
     "text": [
      "---------------------------------------------------------\n",
      "The project scenario with the max NPV value is 'nuetral' with a NPV of 401.91926780957544\n"
     ]
    }
   ],
   "source": [
    "print(\"---------------------------------------------------------\")\n",
    "print(f\"The project scenario with the max NPV value is '{max_key}' with a NPV of {max_value}\")"
   ]
  },
  {
   "cell_type": "code",
   "execution_count": 90,
   "id": "d66abbd8-4795-4a4f-9544-1917d69c9e2d",
   "metadata": {},
   "outputs": [],
   "source": [
    "#07-Ins_File_IO\n",
    "\n",
    "from pathlib import Path"
   ]
  },
  {
   "cell_type": "code",
   "execution_count": 91,
   "id": "6aab4f6d-52b6-4326-b2ed-3efad5778f7b",
   "metadata": {},
   "outputs": [
    {
     "name": "stdout",
     "output_type": "stream",
     "text": [
      "Current working directory: C:\\Users\\keito\\uoft_fintech\\module2\\python_practice\n"
     ]
    }
   ],
   "source": [
    "print(f\"Current working directory: {Path.cwd()}\")"
   ]
  },
  {
   "cell_type": "code",
   "execution_count": 92,
   "id": "bbac7e8c-1f32-4d50-b7da-d4d5d2dadaf4",
   "metadata": {},
   "outputs": [],
   "source": [
    "filepath = Path(\"C:/Users/keito/uoft_fintech/module2/python_practice/customer_traffic.txt\")"
   ]
  },
  {
   "cell_type": "code",
   "execution_count": 110,
   "id": "509c62f0-3aea-4690-aadd-a38943b666ab",
   "metadata": {},
   "outputs": [],
   "source": [
    "max_num = 0\n",
    "min_num = 0\n",
    "\n",
    "with open(filepath, \"r\") as file:\n",
    "    text = file.read()\n",
    "#    print(text)\n",
    "    \n",
    "    line_num = 1\n",
    "    for line in file:\n",
    "        print(line_num)\n",
    "        print(f\"line {line_num}: {line}\")\n",
    "        line_num = line_num + 1\n",
    "        \n",
    "output_path = Path(\"kei.txt\")\n",
    "\n",
    "with open(output_path, \"w\") as file:\n",
    "    file.write(\"This is an output file. \\n\")\n",
    "    file.write(text)\n",
    "        \n",
    "#file.close()"
   ]
  },
  {
   "cell_type": "code",
   "execution_count": 1,
   "id": "24df9286-2996-4f19-90f0-167a9342a2b5",
   "metadata": {},
   "outputs": [],
   "source": [
    "#Class3 10-Stu_CSV_Reader\n",
    "from pathlib import Path\n",
    "import csv"
   ]
  },
  {
   "cell_type": "code",
   "execution_count": 2,
   "id": "1571e140-5ee5-4a43-b62d-9ec368741bc7",
   "metadata": {},
   "outputs": [],
   "source": [
    "csvpath = Path(\"C:/Users/keito/uoft_fintech/module2/python_practice/sales.csv\")"
   ]
  },
  {
   "cell_type": "code",
   "execution_count": 3,
   "id": "15a5065d-9d34-4498-8d53-90347867bacf",
   "metadata": {},
   "outputs": [],
   "source": [
    "analysis = {}"
   ]
  },
  {
   "cell_type": "code",
   "execution_count": 14,
   "id": "88a6f15d-a419-4c26-a4ae-b1176a3a6585",
   "metadata": {},
   "outputs": [
    {
     "name": "stdout",
     "output_type": "stream",
     "text": [
      "['Name', 'Count', 'Revenue']\n",
      "Andrew 9 58\n",
      "Phil 8 377\n",
      "Madison 5 302\n",
      "Sally 1 75\n",
      "Tyler 1 334\n",
      "Billy 7 146\n",
      "Steve 1 178\n",
      "Madison 7 313\n",
      "Sarah 8 103\n",
      "Tim 5 344\n",
      "Andrew 5 349\n",
      "Phil 8 61\n",
      "Madison 4 196\n",
      "Carl 1 374\n",
      "Devon 9 220\n",
      "Megan 9 321\n",
      "Sarah 7 277\n",
      "David 2 246\n",
      "Sally 9 198\n",
      "Tom 5 221\n",
      "Andrew 1 191\n",
      "Paul 5 399\n",
      "Carl 1 300\n",
      "Tim 1 345\n",
      "Madison 4 202\n",
      "John 4 305\n",
      "Phil 6 249\n",
      "Madison 7 113\n",
      "Sally 6 256\n",
      "{'Andrew': {'count': 84, 'revenue': 3048}, 'Phil': {'count': 118, 'revenue': 3812}, 'Madison': {'count': 147, 'revenue': 5932}, 'Sally': {'count': 81, 'revenue': 2720}, 'Tyler': {'count': 6, 'revenue': 2004}, 'Billy': {'count': 42, 'revenue': 876}, 'Steve': {'count': 6, 'revenue': 1068}, 'Sarah': {'count': 75, 'revenue': 1900}, 'Tim': {'count': 30, 'revenue': 3445}, 'Carl': {'count': 10, 'revenue': 3370}, 'Devon': {'count': 45, 'revenue': 1100}, 'Megan': {'count': 45, 'revenue': 1605}, 'David': {'count': 10, 'revenue': 1230}, 'Tom': {'count': 25, 'revenue': 1105}, 'Paul': {'count': 25, 'revenue': 1995}, 'John': {'count': 20, 'revenue': 1525}}\n"
     ]
    }
   ],
   "source": [
    "with open(csvpath, \"r\") as csvfile:\n",
    "    csvreader = csv.reader(csvfile, delimiter=\",\") #read file dividing by ,\n",
    "    csv_header = next(csvreader) #Skip the first line: Header\n",
    "    print(csv_header)\n",
    "   \n",
    "    for row in csvreader:\n",
    "        #print(row)\n",
    "        \n",
    "        name = row[0]\n",
    "        count = int(row[1])\n",
    "        revenue = int(row[2])\n",
    "        print(row[0],row[1], row[2])\n",
    "        \n",
    "        \n",
    "        average = round(revenue/count,2)\n",
    "        \n",
    "        if name not in analysis.keys():\n",
    "            analysis[name]={\"count\": count, \"revenue\":revenue}\n",
    "        else:\n",
    "            analysis[name][\"count\"] += count\n",
    "            analysis[name][\"revenue\"] += revenue   \n",
    "            \n",
    "print(analysis)"
   ]
  },
  {
   "cell_type": "code",
   "execution_count": 24,
   "id": "bf333103-ddd5-4297-9e02-ba1585b7a79b",
   "metadata": {},
   "outputs": [],
   "source": [
    "header = [\"Name\",\"Count\",\"Revenue\",\"Average\"]\n",
    "kei_path = Path(\"kei.csv\")\n",
    "\n",
    "with open(kei_path, \"w\",newline='') as csvfile:\n",
    "    csvwriter = csv.writer(csvfile, delimiter=\",\")\n",
    "    csvwriter.writerow(header)\n",
    "    \n",
    "    for name in analysis:\n",
    "        csvwriter.writerow(\n",
    "            [\n",
    "                name,\n",
    "                analysis[name][\"count\"],\n",
    "                analysis[name][\"revenue\"],\n",
    "                round(analysis[name][\"revenue\"] / analysis[name][\"count\"],2),\n",
    "            ]\n",
    "        )\n",
    "\n",
    "\n",
    "#with open(kei_path, \"w\",newline='') as csvfile:\n",
    "#    csvwriter = csv.writer(csvfile, delimiter=\",\")\n",
    "#    csvwriter.writerow(header)\n",
    "#    \n",
    "#    for name in analysis:\n",
    "#        csvwrite.writerow(\n",
    "#            [\n",
    "#                name,\n",
    "#                analysis[name][\"count\"],\n",
    "#                analysis[name][\"revenue\"],\n",
    "#                round(analysis[name][\"revenue\"] /analysis[name][\"count\"],2),\n",
    "#            ]\n",
    "#        )\n",
    "#    csvfile.close()"
   ]
  },
  {
   "cell_type": "code",
   "execution_count": null,
   "id": "e81a037a-070c-4ceb-afcc-eb80a01c8de3",
   "metadata": {},
   "outputs": [],
   "source": []
  }
 ],
 "metadata": {
  "kernelspec": {
   "display_name": "Python 3 (ipykernel)",
   "language": "python",
   "name": "python3"
  },
  "language_info": {
   "codemirror_mode": {
    "name": "ipython",
    "version": 3
   },
   "file_extension": ".py",
   "mimetype": "text/x-python",
   "name": "python",
   "nbconvert_exporter": "python",
   "pygments_lexer": "ipython3",
   "version": "3.7.15"
  }
 },
 "nbformat": 4,
 "nbformat_minor": 5
}
