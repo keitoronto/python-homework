{
 "cells": [
  {
   "cell_type": "code",
   "execution_count": 6,
   "id": "42b48fa9-cad9-4403-aba5-bd7ec792ae0e",
   "metadata": {},
   "outputs": [],
   "source": [
    "# Module 2 PyBank Challenge\n",
    "# 1.Read csv file: budget_data.csv\n",
    "# 2.Create a logic below\n",
    "#    *The total number of months included in the dataset. \n",
    "#    *The net total amount of Profit/Losses over the entire period. \n",
    "#    *The average of the changes in Profit/Losses over the entire period.\n",
    "#    *The greatest increase in profits (date and amount) over the entire period.\n",
    "#    *The greatest decrease in losses (date and amount) over the entire period. \n",
    "# 3.Export to txt file:budget_analysis.txt    \"\"\""
   ]
  },
  {
   "cell_type": "code",
   "execution_count": 24,
   "id": "10c443d4-defb-44c3-a96b-3cac1f42dd23",
   "metadata": {},
   "outputs": [],
   "source": [
    "# Import pathlib and csv library\n",
    "from pathlib import Path\n",
    "import csv"
   ]
  },
  {
   "cell_type": "code",
   "execution_count": 25,
   "id": "39c874cc-b512-46cb-87f0-a154de44fd92",
   "metadata": {},
   "outputs": [],
   "source": [
    "# Set the path where budget_data.csv is located\n",
    "csvpath = Path(\"C:/Users/keito/uoft_fintech/python-homework/PyBank/budget_data.csv\")"
   ]
  },
  {
   "cell_type": "code",
   "execution_count": 26,
   "id": "eaf9894c-d8c8-481a-b814-7d16f2c0c26e",
   "metadata": {},
   "outputs": [],
   "source": [
    "# Veriable initialization section\n",
    "total_number_of_mth = 0\n",
    "total_net_amount = 0\n",
    "total_change = 0\n",
    "profit_diff = 0\n",
    "average_change = 0\n",
    "previous_rev = 0\n",
    "greatest_profit = 0\n",
    "worst_loss = 0\n",
    "greatest_profit_date = \"\"\n",
    "worst_loss_date = \"\"\n",
    "\n",
    "# Open csv file\n",
    "with open(csvpath, 'r') as csvfile:\n",
    "    csvreader = csv.reader(csvfile, delimiter=\",\")\n",
    "    csv_header = next(csvreader)\n",
    "\n",
    "# Read file    \n",
    "    for row in csvreader:\n",
    "        date=row[0]\n",
    "        revenue=int(row[1])\n",
    "\n",
    "# Sum the total number of months and profit/Loss over the entire period        \n",
    "        total_number_of_mth += 1\n",
    "        total_net_amount += revenue\n",
    "\n",
    "# Bypass to calculate the profit difference at the first month        \n",
    "        if not total_number_of_mth == 1:\n",
    "            profit_diff = revenue - previous_rev\n",
    "\n",
    "# Check the greatest increase or worst decrease in revenue\n",
    "        if profit_diff >= 0 and profit_diff > greatest_profit:\n",
    "            greatest_profit = profit_diff\n",
    "            greatest_profit_date = date\n",
    "            \n",
    "        if profit_diff < 0 and profit_diff < worst_loss:\n",
    "            worst_loss = profit_diff\n",
    "            worst_loss_date = date\n",
    "\n",
    "# Sum of Profit/Loss  \n",
    "        total_change += profit_diff\n",
    "        previous_rev = revenue\n",
    "\n",
    "# Calculate the average of the changes in Profit/Losses over the entire period\n",
    "    average_change = round(total_change/(total_number_of_mth-1),2)\n",
    "    \n",
    "# Apply a currency format\n",
    "    currency_format_profit = \"{:,}\".format(greatest_profit)\n",
    "    currency_format_loss = \"{:,}\".format(worst_loss*-1)\n",
    "\n",
    "    if average_change >= 0: \n",
    "        currency_format_average_change = \"{:,}\".format(average_change)\n",
    "        currency_format_average_change_msg = f\"${currency_format_average_change}\"\n",
    "    else:\n",
    "        currency_format_average_change = \"{:,}\".format(average_change*-1)\n",
    "        currency_format_average_change_msg = f\"-${currency_format_average_change}\"\n",
    "\n",
    "# This function choose the output message: 1.If the average change is positive then profit 2.Else loss\n",
    "    def profit_or_loss(diff):\n",
    "        if average_change >= 0:\n",
    "            message = \"profit\"\n",
    "        else:\n",
    "            message = \"loss\"        \n",
    "        \n",
    "        return message\n",
    "    \n",
    "# Call profit_or_loss function to determine the message\n",
    "    message = profit_or_loss(average_change)"
   ]
  },
  {
   "cell_type": "code",
   "execution_count": 27,
   "id": "cf7293ad-5a0c-492e-9f57-e3822eb85e50",
   "metadata": {},
   "outputs": [],
   "source": [
    "# Output the result to budget_analysis.txt\n",
    "output_path = Path(\"budget_analysis.txt\")\n",
    "\n",
    "# Write each line to the output file\n",
    "with open(output_path, \"w\") as file:\n",
    "    file.write(\"            Financial Analysis\\n\")\n",
    "    file.write(\"--------------------------------------------\\n\")\n",
    "    file.write(f\"The total months are {total_number_of_mth} months.\\n\")\n",
    "    file.write(f\"The average {message} is {currency_format_average_change_msg}\\n\")\n",
    "    file.write(f\"The greatest profit is ${currency_format_profit} on {greatest_profit_date}\\n\")\n",
    "    file.write(f\"The worst loss is -${currency_format_loss} on {worst_loss_date}\\n\")"
   ]
  },
  {
   "cell_type": "code",
   "execution_count": null,
   "id": "b2b32145-63d7-4c49-be41-4a0b907a4a1e",
   "metadata": {},
   "outputs": [],
   "source": []
  }
 ],
 "metadata": {
  "kernelspec": {
   "display_name": "Python 3 (ipykernel)",
   "language": "python",
   "name": "python3"
  },
  "language_info": {
   "codemirror_mode": {
    "name": "ipython",
    "version": 3
   },
   "file_extension": ".py",
   "mimetype": "text/x-python",
   "name": "python",
   "nbconvert_exporter": "python",
   "pygments_lexer": "ipython3",
   "version": "3.7.15"
  }
 },
 "nbformat": 4,
 "nbformat_minor": 5
}
