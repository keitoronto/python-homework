{
 "cells": [
  {
   "cell_type": "code",
   "execution_count": 26,
   "id": "718fa29f-0f57-4241-9809-7fcae0c50c20",
   "metadata": {},
   "outputs": [],
   "source": [
    "\"\"\" Analyse Ichiban Ramen business performance \"\"\"\n",
    "\n",
    "#Import csv libraries\n",
    "import csv\n",
    "from pathlib import Path\n",
    "\n",
    "#Set file paths for menu_data.csv and sales_data.csv\n",
    "menu_filepath = Path(\"C:/Users/keito/uoft_fintech/python-homework/PyRamen/menu_data.csv\")\n",
    "sales_filepath = Path(\"C:/Users/keito/uoft_fintech/python-homework/PyRamen/sales_data.csv\")"
   ]
  },
  {
   "cell_type": "code",
   "execution_count": 44,
   "id": "fa05710d-41ce-4070-8c1c-4ec89f5bf00d",
   "metadata": {},
   "outputs": [],
   "source": [
    "#"
   ]
  },
  {
   "cell_type": "code",
   "execution_count": 58,
   "id": "1e8c0eba-d251-423b-b477-37716b3aa491",
   "metadata": {},
   "outputs": [
    {
     "name": "stdout",
     "output_type": "stream",
     "text": [
      "32\n",
      "house salad\n",
      "{'black sesame creme brulee': {'01-count': 0, '02-rev': 0, '03-cogs': 0, '04-profit': 0}}\n",
      "{'edamame': {'01-count': 0, '02-rev': 0, '03-cogs': 0, '04-profit': 0}, 'house salad': {'01-count': 0, '02-rev': 0, '03-cogs': 0, '04-profit': 0}, 'cucumber sunomono salad': {'01-count': 0, '02-rev': 0, '03-cogs': 0, '04-profit': 0}, 'hiyashi wakame seaweed salad': {'01-count': 0, '02-rev': 0, '03-cogs': 0, '04-profit': 0}, 'agedashi tofu': {'01-count': 0, '02-rev': 0, '03-cogs': 0, '04-profit': 0}, 'hiyayakko tofu': {'01-count': 0, '02-rev': 0, '03-cogs': 0, '04-profit': 0}, 'pork floss bao': {'01-count': 0, '02-rev': 0, '03-cogs': 0, '04-profit': 0}, 'kakuni bao': {'01-count': 0, '02-rev': 0, '03-cogs': 0, '04-profit': 0}, 'edamame fried gyoza (vegan)': {'01-count': 0, '02-rev': 0, '03-cogs': 0, '04-profit': 0}, 'fried gyoza': {'01-count': 0, '02-rev': 0, '03-cogs': 0, '04-profit': 0}, 'takoyaki': {'01-count': 0, '02-rev': 0, '03-cogs': 0, '04-profit': 0}, 'rock shrimp tempura': {'01-count': 0, '02-rev': 0, '03-cogs': 0, '04-profit': 0}, 'soft-shell crab tempura': {'01-count': 0, '02-rev': 0, '03-cogs': 0, '04-profit': 0}, 'ebi katsu shrimp bao': {'01-count': 0, '02-rev': 0, '03-cogs': 0, '04-profit': 0}, 'nagomi shoyu': {'01-count': 0, '02-rev': 0, '03-cogs': 0, '04-profit': 0}, 'shio ramen': {'01-count': 0, '02-rev': 0, '03-cogs': 0, '04-profit': 0}, 'spicy miso ramen': {'01-count': 0, '02-rev': 0, '03-cogs': 0, '04-profit': 0}, 'vegetarian spicy miso': {'01-count': 0, '02-rev': 0, '03-cogs': 0, '04-profit': 0}, 'miso crab ramen': {'01-count': 0, '02-rev': 0, '03-cogs': 0, '04-profit': 0}, 'soft-shell miso crab ramen': {'01-count': 0, '02-rev': 0, '03-cogs': 0, '04-profit': 0}, 'tori paitan ramen': {'01-count': 0, '02-rev': 0, '03-cogs': 0, '04-profit': 0}, 'tonkotsu ramen': {'01-count': 0, '02-rev': 0, '03-cogs': 0, '04-profit': 0}, 'burnt garlic tonkotsu ramen': {'01-count': 0, '02-rev': 0, '03-cogs': 0, '04-profit': 0}, 'vegetarian curry + king trumpet mushroom ramen': {'01-count': 0, '02-rev': 0, '03-cogs': 0, '04-profit': 0}, 'truffle butter ramen': {'01-count': 0, '02-rev': 0, '03-cogs': 0, '04-profit': 0}, 'green tea': {'01-count': 0, '02-rev': 0, '03-cogs': 0, '04-profit': 0}, 'coke': {'01-count': 0, '02-rev': 0, '03-cogs': 0, '04-profit': 0}, 'black sesame ice cream': {'01-count': 0, '02-rev': 0, '03-cogs': 0, '04-profit': 0}, 'matcha ice cream': {'01-count': 0, '02-rev': 0, '03-cogs': 0, '04-profit': 0}, 'mango mochi ice cream': {'01-count': 0, '02-rev': 0, '03-cogs': 0, '04-profit': 0}, 'strawberry mochi ice cream': {'01-count': 0, '02-rev': 0, '03-cogs': 0, '04-profit': 0}, 'black sesame creme brulee': {'01-count': 0, '02-rev': 0, '03-cogs': 0, '04-profit': 0}}\n"
     ]
    }
   ],
   "source": [
    "#Initialization\n",
    "report = {}  #report{\"Edamame'\"{01-count:0,02-rev:0,03-cogs:0,04-profit:0}}\n",
    "menu = []\n",
    "menu_counter = 0\n",
    "\n",
    "# Open menu_data.csv file\n",
    "with open(menu_filepath, 'r') as csvfile:\n",
    "    csvreader = csv.reader(csvfile, delimiter=\",\")\n",
    "    csv_header = next(csvreader)\n",
    "\n",
    "# Loop the file    \n",
    "    for row in csvreader:\n",
    "        menu_nested_list = row\n",
    "\n",
    "# Assign individual data:item, category,description,price and cost to each variable         \n",
    "        menu_item = menu_nested_list[0]\n",
    "        menu_price = menu_nested_list[3]\n",
    "        menu_cost = menu_nested_list[4]\n",
    "\n",
    "# Initialize report list ===HERE!!!!!!=============================\n",
    "        report_nested_dict = {menu_item:{\"01-count\":0,\"02-rev\":0,\"03-cogs\":0,\"04-profit\":0}}\n",
    "        report.update(report_nested_dict)\n",
    "#        report[menu_item].append(report_list)\n",
    "        \n",
    "# Append each data to a nested list       \n",
    "        menu_list = []\n",
    "        menu_list.append(menu_item)\n",
    "        menu_list.append(menu_price)\n",
    "        menu_list.append(menu_cost)\n",
    "        \n",
    "# Append nested list:menu_list to menu list\n",
    "        menu.append(menu_list)\n",
    "    \n",
    "#        print(menu_list)\n",
    "#        print(menu)\n",
    "        \n",
    "        menu_counter += 1\n",
    "print(menu_counter)        \n",
    "print(menu[1][0])\n",
    "print(report_nested_dict)\n",
    "print(report)"
   ]
  },
  {
   "cell_type": "code",
   "execution_count": 62,
   "id": "81948057-1236-4fc7-a5a2-786c58a7d763",
   "metadata": {},
   "outputs": [
    {
     "name": "stdout",
     "output_type": "stream",
     "text": [
      "['1', '01-01-2017', '7437926611570799', '1', 'spicy miso ramen']\n"
     ]
    }
   ],
   "source": [
    "# Open sales_data.csv file\n",
    "with open(sales_filepath, 'r') as csvfile:\n",
    "    csvreader = csv.reader(csvfile, delimiter=\",\")\n",
    "    csv_header = next(csvreader)\n",
    "\n",
    "# Loop the file and append entire row from the file to sales list   \n",
    "    for row in csvreader:\n",
    "        sales.append(row)\n",
    "    \n",
    "    print(sales[0])\n",
    "    "
   ]
  },
  {
   "cell_type": "code",
   "execution_count": 138,
   "id": "cebde945-7252-4565-91fb-dc9922006fff",
   "metadata": {},
   "outputs": [
    {
     "name": "stdout",
     "output_type": "stream",
     "text": [
      "truffle butter ramen | 502992\n",
      "truffle butter ramen | 502992\n",
      "truffle butter ramen | 502992\n",
      "truffle butter ramen | 502992\n",
      "truffle butter ramen | 502992\n",
      "truffle butter ramen | 502992\n",
      "truffle butter ramen | 502992\n",
      "truffle butter ramen | 502992\n",
      "truffle butter ramen | 502992\n",
      "truffle butter ramen | 502992\n",
      "truffle butter ramen | 502992\n",
      "truffle butter ramen | 502992\n",
      "truffle butter ramen | 502992\n",
      "truffle butter ramen | 502992\n",
      "nagomi shoyu | 602712\n",
      "shio ramen | 605880\n",
      "spicy miso ramen | 665136\n",
      "vegetarian spicy miso | 663552\n",
      "miso crab ramen | 640080\n",
      "soft-shell miso crab ramen | 766920\n",
      "tori paitan ramen | 714168\n",
      "tonkotsu ramen | 724464\n",
      "burnt garlic tonkotsu ramen | 761880\n",
      "vegetarian curry + king trumpet mushroom ramen | 688272\n",
      "truffle butter ramen | 754488\n",
      "truffle butter ramen | 754488\n",
      "truffle butter ramen | 754488\n",
      "truffle butter ramen | 754488\n",
      "truffle butter ramen | 754488\n",
      "truffle butter ramen | 754488\n",
      "truffle butter ramen | 754488\n",
      "truffle butter ramen | 754488\n"
     ]
    }
   ],
   "source": [
    "# Initialize menu_counter\n",
    "menu_counter = 0\n",
    "sale_counter = 0\n",
    "\n",
    "# Define function where you will match menu item in menu and sale and add each element\n",
    "#def menu_item_match(menu_item_name, price, cost):\n",
    "#    sale_counter = 0\n",
    "    \n",
    "#    print(report[\"edamame\"][\"01-count\"]\n",
    "#    for sale in sales:\n",
    "#        concatinated_sale_item = sale[4].replace(' ', '_')\n",
    "#        sale_counter += 1\n",
    "#        if sale[4] == menu_item_name:\n",
    "    \n",
    "#            report[menu_item_name][\"01-count\"] += sale[3]\n",
    "#            report[menu_item_name][\"02-rev\"] += price * sale[3]\n",
    "#            report[menu_item_name][\"03-cogs\"] += cost * sale[3]\n",
    "#            report[menu_item_name][\"04-profit\"] += (price - cost) * sale[3]\n",
    "    \n",
    "    \n",
    "#    print(sale_counter)\n",
    "#    print(sale[4])\n",
    "# Create a nested loop by looping through every record in menu\n",
    "#menu_item_match(\"shio ramen\",11,5)\n",
    "#print(report[\"edamame\"][\"01-count\"])\n",
    "#print(report)\n",
    "\n",
    "for each_menu in menu:\n",
    "    menu_counter += 1\n",
    "#    concatinated_str = each_menu[0].replace(' ', '_')\n",
    "#    menu_item_match(concatinated_str,each_menu[1],each_menu[2])\n",
    "#    print(each_menu[0])\n",
    "    for sale in sales:\n",
    "#        concatinated_sale_item = sale[4].replace(' ', '_')\n",
    "        sale_counter += 1\n",
    "        \n",
    "        if sale[4] == each_menu[0]:\n",
    "            menu_item_name = each_menu[0]\n",
    "            report[menu_item_name][\"01-count\"] += int(sale[3])\n",
    "            report[menu_item_name][\"02-rev\"] += int(each_menu[1]) * int(sale[3])\n",
    "            report[menu_item_name][\"03-cogs\"] += int(each_menu[2]) * int(sale[3])\n",
    "            report[menu_item_name][\"04-profit\"] += (int(each_menu[1]) - int(each_menu[2])) * int(sale[3])\n",
    "\n",
    "    if not report[menu_item_name][\"01-count\"] == 0:\n",
    "        print(menu_item_name, \"|\", report[menu_item_name][\"02-rev\"])\n",
    "          \n",
    "#print(menu_counter)\n",
    "# * `01-count`: the total quantity for each ramen type\n",
    "#Logic: Match item in menu_data with menu_item from sale_data.csv then accumulate item_count from sale_date.csv\n",
    "#  * `02-revenue`: the total revenue for each ramen type\n",
    "#Logic: revenue = item_count*price from menu_data\n",
    "#  * `03-cogs`: the total cost of goods sold for each ramen type\n",
    "#Logic: cogs = item_count*cost\n",
    "#  * `04-profit`: the total profit for each ramen type"
   ]
  },
  {
   "cell_type": "code",
   "execution_count": 18,
   "id": "822b8f66-fdc4-4bd9-aaaf-c4ebb8aae80b",
   "metadata": {},
   "outputs": [
    {
     "name": "stdout",
     "output_type": "stream",
     "text": [
      "spicy miso ramen\n"
     ]
    }
   ],
   "source": [
    "# Assign quantity and menu_item from sales list to variables\n",
    "for sale in sales:\n",
    "    quantity = sale[3]\n",
    "    menu_item = sale[4]\n",
    "    \n",
    "print(menu_item)"
   ]
  },
  {
   "cell_type": "code",
   "execution_count": null,
   "id": "e1f4184b-23b7-4f06-8578-9d665be724f1",
   "metadata": {},
   "outputs": [],
   "source": []
  }
 ],
 "metadata": {
  "kernelspec": {
   "display_name": "Python 3 (ipykernel)",
   "language": "python",
   "name": "python3"
  },
  "language_info": {
   "codemirror_mode": {
    "name": "ipython",
    "version": 3
   },
   "file_extension": ".py",
   "mimetype": "text/x-python",
   "name": "python",
   "nbconvert_exporter": "python",
   "pygments_lexer": "ipython3",
   "version": "3.7.15"
  }
 },
 "nbformat": 4,
 "nbformat_minor": 5
}
