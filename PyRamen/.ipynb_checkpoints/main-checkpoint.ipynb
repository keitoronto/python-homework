{
 "cells": [
  {
   "cell_type": "code",
   "execution_count": 47,
   "id": "718fa29f-0f57-4241-9809-7fcae0c50c20",
   "metadata": {},
   "outputs": [],
   "source": [
    "\"\"\" Analyse Ichiban Ramen business performance \"\"\"\n",
    "\n",
    "#Import csv libraries\n",
    "import csv\n",
    "from pathlib import Path\n",
    "\n",
    "#Set file paths for menu_data.csv and sales_data.csv\n",
    "menu_filepath = Path(\"C:/Users/keito/uoft_fintech/python-homework/PyRamen/menu_data.csv\")\n",
    "sales_filepath = Path(\"C:/Users/keito/uoft_fintech/python-homework/PyRamen/sales_data.csv\")\n",
    "\n",
    "#Initialize list for menu and sales\n",
    "menu = []\n",
    "sales = []\n",
    "menu_list = []\n",
    "menu_counter = 0"
   ]
  },
  {
   "cell_type": "code",
   "execution_count": 58,
   "id": "1e8c0eba-d251-423b-b477-37716b3aa491",
   "metadata": {},
   "outputs": [
    {
     "name": "stderr",
     "output_type": "stream",
     "text": [
      "IOPub data rate exceeded.\n",
      "The Jupyter server will temporarily stop sending output\n",
      "to the client in order to avoid crashing it.\n",
      "To change this limit, set the config variable\n",
      "`--ServerApp.iopub_data_rate_limit`.\n",
      "\n",
      "Current values:\n",
      "ServerApp.iopub_data_rate_limit=1000000.0 (bytes/sec)\n",
      "ServerApp.rate_limit_window=3.0 (secs)\n",
      "\n"
     ]
    }
   ],
   "source": [
    "with open(menu_filepath, 'r') as csvfile:\n",
    "    csvreader = csv.reader(csvfile, delimiter=\",\")\n",
    "    csv_header = next(csvreader)\n",
    "    \n",
    "    for row in csvreader:\n",
    "        menu_nested_list = row\n",
    "        \n",
    "        menu_item = menu_nested_list[0]\n",
    "        menu_category = menu_nested_list[1]\n",
    "        menu_desc = menu_nested_list[2]\n",
    "        menu_price = menu_nested_list[3]\n",
    "        menu_cost = menu_nested_list[4]\n",
    "\n",
    "        menu_list.append(menu_item)\n",
    "        menu_list.append(menu_category)\n",
    "        menu_list.append(menu_desc)\n",
    "        menu_list.append(menu_price)\n",
    "        menu_list.append(menu_cost)\n",
    "        \n",
    "#        menu.append(menu_nexted_list)\n",
    "        menu.append(menu_list)\n",
    "#        print(menu_list)\n",
    "#        print(menu)\n",
    "        \n",
    "        menu_counter += 1\n",
    "        \n",
    "print(menu)"
   ]
  },
  {
   "cell_type": "code",
   "execution_count": null,
   "id": "81948057-1236-4fc7-a5a2-786c58a7d763",
   "metadata": {},
   "outputs": [],
   "source": []
  }
 ],
 "metadata": {
  "kernelspec": {
   "display_name": "Python 3 (ipykernel)",
   "language": "python",
   "name": "python3"
  },
  "language_info": {
   "codemirror_mode": {
    "name": "ipython",
    "version": 3
   },
   "file_extension": ".py",
   "mimetype": "text/x-python",
   "name": "python",
   "nbconvert_exporter": "python",
   "pygments_lexer": "ipython3",
   "version": "3.7.15"
  }
 },
 "nbformat": 4,
 "nbformat_minor": 5
}
